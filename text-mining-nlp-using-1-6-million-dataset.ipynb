{
 "cells": [
  {
   "cell_type": "markdown",
   "id": "9cb2659e",
   "metadata": {
    "papermill": {
     "duration": 0.024498,
     "end_time": "2023-05-12T10:37:58.148966",
     "exception": false,
     "start_time": "2023-05-12T10:37:58.124468",
     "status": "completed"
    },
    "tags": []
   },
   "source": [
    "#  Problem Statement"
   ]
  },
  {
   "cell_type": "markdown",
   "id": "787bd5a0",
   "metadata": {
    "papermill": {
     "duration": 0.019829,
     "end_time": "2023-05-12T10:37:58.188839",
     "exception": false,
     "start_time": "2023-05-12T10:37:58.169010",
     "status": "completed"
    },
    "tags": []
   },
   "source": [
    "- Explore and prepare the data (Tokenization, Stemming, Stopwords, visualization, etc.)\n",
    "- Build a BOW and train a KNN, Decision Tree, and SVM model\n",
    "- Evaluate the above models (confusion matrix, accuracy, classification report, etc.)\n",
    "- Use one of the word embeddings (word2vec, Glove, fasText) and build a CNN model and compare the result   with question 2\n"
   ]
  },
  {
   "cell_type": "markdown",
   "id": "ca5296a7",
   "metadata": {
    "papermill": {
     "duration": 0.019882,
     "end_time": "2023-05-12T10:37:58.228862",
     "exception": false,
     "start_time": "2023-05-12T10:37:58.208980",
     "status": "completed"
    },
    "tags": []
   },
   "source": [
    "# Importing Libraries"
   ]
  },
  {
   "cell_type": "markdown",
   "id": "402b454d",
   "metadata": {
    "papermill": {
     "duration": 0.019741,
     "end_time": "2023-05-12T10:37:58.268802",
     "exception": false,
     "start_time": "2023-05-12T10:37:58.249061",
     "status": "completed"
    },
    "tags": []
   },
   "source": [
    "- Initially we will import all the libraries which will be used in our assignment"
   ]
  },
  {
   "cell_type": "code",
   "execution_count": 1,
   "id": "3a9404f2",
   "metadata": {
    "execution": {
     "iopub.execute_input": "2023-05-12T10:37:58.312134Z",
     "iopub.status.busy": "2023-05-12T10:37:58.311153Z",
     "iopub.status.idle": "2023-05-12T10:38:07.327146Z",
     "shell.execute_reply": "2023-05-12T10:38:07.325920Z"
    },
    "papermill": {
     "duration": 9.041416,
     "end_time": "2023-05-12T10:38:07.330257",
     "exception": false,
     "start_time": "2023-05-12T10:37:58.288841",
     "status": "completed"
    },
    "tags": []
   },
   "outputs": [],
   "source": [
    "#!pip install tensorflow\n",
    "import pandas as pd\n",
    "import numpy as np\n",
    "import seaborn as sb\n",
    "import plotly.express as px\n",
    "import matplotlib.pyplot as plt\n",
    "import re\n",
    "import os\n",
    "import nltk\n",
    "from sklearn.preprocessing import LabelEncoder\n",
    "from keras.callbacks import ReduceLROnPlateau, EarlyStopping\n",
    "from keras.layers import Activation, Dense, Dropout, Embedding, Flatten, Conv1D, MaxPooling1D, LSTM\n",
    "from keras.preprocessing.text import Tokenizer\n",
    "from tensorflow.keras.preprocessing.sequence import pad_sequences\n",
    "from tensorflow.keras import datasets, layers, models, losses\n",
    "from sklearn.svm import SVC\n",
    "from wordcloud import WordCloud,STOPWORDS\n",
    "from keras.preprocessing.text import Tokenizer\n",
    "from tensorflow.keras.preprocessing.sequence import pad_sequences\n",
    "from nltk.corpus import stopwords  \n",
    "from nltk import SnowballStemmer\n",
    "from sklearn.feature_extraction.text import TfidfVectorizer\n",
    "from sklearn.model_selection import train_test_split\n",
    "from imblearn.over_sampling import SMOTE \n",
    "from sklearn.neighbors import KNeighborsClassifier\n",
    "from sklearn.tree import DecisionTreeClassifier\n",
    "from sklearn import svm\n",
    "from xgboost import XGBClassifier\n",
    "from sklearn.tree import DecisionTreeClassifier\n",
    "from sklearn.metrics import accuracy_score,confusion_matrix,classification_report\n",
    "import warnings\n",
    "warnings.filterwarnings('ignore')"
   ]
  },
  {
   "cell_type": "markdown",
   "id": "da266f46",
   "metadata": {
    "papermill": {
     "duration": 0.019663,
     "end_time": "2023-05-12T10:38:07.370003",
     "exception": false,
     "start_time": "2023-05-12T10:38:07.350340",
     "status": "completed"
    },
    "tags": []
   },
   "source": [
    "# Data Exploration and Preparation"
   ]
  },
  {
   "cell_type": "code",
   "execution_count": 2,
   "id": "9910d03f",
   "metadata": {
    "execution": {
     "iopub.execute_input": "2023-05-12T10:38:07.412171Z",
     "iopub.status.busy": "2023-05-12T10:38:07.411314Z",
     "iopub.status.idle": "2023-05-12T10:38:17.298915Z",
     "shell.execute_reply": "2023-05-12T10:38:17.297812Z"
    },
    "papermill": {
     "duration": 9.911865,
     "end_time": "2023-05-12T10:38:17.301800",
     "exception": false,
     "start_time": "2023-05-12T10:38:07.389935",
     "status": "completed"
    },
    "tags": []
   },
   "outputs": [
    {
     "data": {
      "text/html": [
       "<div>\n",
       "<style scoped>\n",
       "    .dataframe tbody tr th:only-of-type {\n",
       "        vertical-align: middle;\n",
       "    }\n",
       "\n",
       "    .dataframe tbody tr th {\n",
       "        vertical-align: top;\n",
       "    }\n",
       "\n",
       "    .dataframe thead th {\n",
       "        text-align: right;\n",
       "    }\n",
       "</style>\n",
       "<table border=\"1\" class=\"dataframe\">\n",
       "  <thead>\n",
       "    <tr style=\"text-align: right;\">\n",
       "      <th></th>\n",
       "      <th>target</th>\n",
       "      <th>ids</th>\n",
       "      <th>date</th>\n",
       "      <th>flag</th>\n",
       "      <th>user</th>\n",
       "      <th>text</th>\n",
       "    </tr>\n",
       "  </thead>\n",
       "  <tbody>\n",
       "    <tr>\n",
       "      <th>0</th>\n",
       "      <td>0</td>\n",
       "      <td>1467810369</td>\n",
       "      <td>Mon Apr 06 22:19:45 PDT 2009</td>\n",
       "      <td>NO_QUERY</td>\n",
       "      <td>_TheSpecialOne_</td>\n",
       "      <td>@switchfoot http://twitpic.com/2y1zl - Awww, t...</td>\n",
       "    </tr>\n",
       "    <tr>\n",
       "      <th>1</th>\n",
       "      <td>0</td>\n",
       "      <td>1467810672</td>\n",
       "      <td>Mon Apr 06 22:19:49 PDT 2009</td>\n",
       "      <td>NO_QUERY</td>\n",
       "      <td>scotthamilton</td>\n",
       "      <td>is upset that he can't update his Facebook by ...</td>\n",
       "    </tr>\n",
       "    <tr>\n",
       "      <th>2</th>\n",
       "      <td>0</td>\n",
       "      <td>1467810917</td>\n",
       "      <td>Mon Apr 06 22:19:53 PDT 2009</td>\n",
       "      <td>NO_QUERY</td>\n",
       "      <td>mattycus</td>\n",
       "      <td>@Kenichan I dived many times for the ball. Man...</td>\n",
       "    </tr>\n",
       "    <tr>\n",
       "      <th>3</th>\n",
       "      <td>0</td>\n",
       "      <td>1467811184</td>\n",
       "      <td>Mon Apr 06 22:19:57 PDT 2009</td>\n",
       "      <td>NO_QUERY</td>\n",
       "      <td>ElleCTF</td>\n",
       "      <td>my whole body feels itchy and like its on fire</td>\n",
       "    </tr>\n",
       "    <tr>\n",
       "      <th>4</th>\n",
       "      <td>0</td>\n",
       "      <td>1467811193</td>\n",
       "      <td>Mon Apr 06 22:19:57 PDT 2009</td>\n",
       "      <td>NO_QUERY</td>\n",
       "      <td>Karoli</td>\n",
       "      <td>@nationwideclass no, it's not behaving at all....</td>\n",
       "    </tr>\n",
       "  </tbody>\n",
       "</table>\n",
       "</div>"
      ],
      "text/plain": [
       "   target         ids                          date      flag  \\\n",
       "0       0  1467810369  Mon Apr 06 22:19:45 PDT 2009  NO_QUERY   \n",
       "1       0  1467810672  Mon Apr 06 22:19:49 PDT 2009  NO_QUERY   \n",
       "2       0  1467810917  Mon Apr 06 22:19:53 PDT 2009  NO_QUERY   \n",
       "3       0  1467811184  Mon Apr 06 22:19:57 PDT 2009  NO_QUERY   \n",
       "4       0  1467811193  Mon Apr 06 22:19:57 PDT 2009  NO_QUERY   \n",
       "\n",
       "              user                                               text  \n",
       "0  _TheSpecialOne_  @switchfoot http://twitpic.com/2y1zl - Awww, t...  \n",
       "1    scotthamilton  is upset that he can't update his Facebook by ...  \n",
       "2         mattycus  @Kenichan I dived many times for the ball. Man...  \n",
       "3          ElleCTF    my whole body feels itchy and like its on fire   \n",
       "4           Karoli  @nationwideclass no, it's not behaving at all....  "
      ]
     },
     "execution_count": 2,
     "metadata": {},
     "output_type": "execute_result"
    }
   ],
   "source": [
    "# Reading the data\n",
    "ens_learn = pd.read_csv('/kaggle/input/sentiment140/training.1600000.processed.noemoticon.csv', encoding='cp1252', names = {0 : 'targets', 1 : 'ids', 2 : 'date', 3 : 'flag', 4 : 'user', 5 : 'text'})\n",
    "ens_learn_copy = ens_learn\n",
    "# Checking first 5 rows of data\n",
    "ens_learn.columns=['target', 'ids','date','flag','user','text']\n",
    "ens_learn.head()"
   ]
  },
  {
   "cell_type": "markdown",
   "id": "52cd8c43",
   "metadata": {
    "papermill": {
     "duration": 0.020097,
     "end_time": "2023-05-12T10:38:17.343381",
     "exception": false,
     "start_time": "2023-05-12T10:38:17.323284",
     "status": "completed"
    },
    "tags": []
   },
   "source": [
    "- Taking 10 percent of data from our dataset"
   ]
  },
  {
   "cell_type": "code",
   "execution_count": 3,
   "id": "5590c698",
   "metadata": {
    "execution": {
     "iopub.execute_input": "2023-05-12T10:38:17.385881Z",
     "iopub.status.busy": "2023-05-12T10:38:17.385439Z",
     "iopub.status.idle": "2023-05-12T10:38:17.462684Z",
     "shell.execute_reply": "2023-05-12T10:38:17.461529Z"
    },
    "papermill": {
     "duration": 0.101528,
     "end_time": "2023-05-12T10:38:17.465299",
     "exception": false,
     "start_time": "2023-05-12T10:38:17.363771",
     "status": "completed"
    },
    "tags": []
   },
   "outputs": [],
   "source": [
    "ens_learn = ens_learn.sample(10000)"
   ]
  },
  {
   "cell_type": "markdown",
   "id": "f76b2504",
   "metadata": {
    "papermill": {
     "duration": 0.019988,
     "end_time": "2023-05-12T10:38:17.505775",
     "exception": false,
     "start_time": "2023-05-12T10:38:17.485787",
     "status": "completed"
    },
    "tags": []
   },
   "source": [
    "- 160k of data with 6 coumns"
   ]
  },
  {
   "cell_type": "code",
   "execution_count": 4,
   "id": "8bbc8f4c",
   "metadata": {
    "execution": {
     "iopub.execute_input": "2023-05-12T10:38:17.548004Z",
     "iopub.status.busy": "2023-05-12T10:38:17.547587Z",
     "iopub.status.idle": "2023-05-12T10:38:17.554117Z",
     "shell.execute_reply": "2023-05-12T10:38:17.553100Z"
    },
    "papermill": {
     "duration": 0.030683,
     "end_time": "2023-05-12T10:38:17.556678",
     "exception": false,
     "start_time": "2023-05-12T10:38:17.525995",
     "status": "completed"
    },
    "tags": []
   },
   "outputs": [
    {
     "data": {
      "text/plain": [
       "(10000, 6)"
      ]
     },
     "execution_count": 4,
     "metadata": {},
     "output_type": "execute_result"
    }
   ],
   "source": [
    "# Checking number of rows and columns\n",
    "ens_learn.shape"
   ]
  },
  {
   "cell_type": "code",
   "execution_count": 5,
   "id": "fbc425ea",
   "metadata": {
    "execution": {
     "iopub.execute_input": "2023-05-12T10:38:17.598971Z",
     "iopub.status.busy": "2023-05-12T10:38:17.598570Z",
     "iopub.status.idle": "2023-05-12T10:38:17.605038Z",
     "shell.execute_reply": "2023-05-12T10:38:17.604005Z"
    },
    "papermill": {
     "duration": 0.030231,
     "end_time": "2023-05-12T10:38:17.607159",
     "exception": false,
     "start_time": "2023-05-12T10:38:17.576928",
     "status": "completed"
    },
    "tags": []
   },
   "outputs": [
    {
     "data": {
      "text/plain": [
       "Index(['target', 'ids', 'date', 'flag', 'user', 'text'], dtype='object')"
      ]
     },
     "execution_count": 5,
     "metadata": {},
     "output_type": "execute_result"
    }
   ],
   "source": [
    "# Names of columns\n",
    "ens_learn.columns"
   ]
  },
  {
   "cell_type": "code",
   "execution_count": 6,
   "id": "ff719010",
   "metadata": {
    "execution": {
     "iopub.execute_input": "2023-05-12T10:38:17.649858Z",
     "iopub.status.busy": "2023-05-12T10:38:17.649456Z",
     "iopub.status.idle": "2023-05-12T10:38:17.678065Z",
     "shell.execute_reply": "2023-05-12T10:38:17.676820Z"
    },
    "papermill": {
     "duration": 0.053279,
     "end_time": "2023-05-12T10:38:17.680955",
     "exception": false,
     "start_time": "2023-05-12T10:38:17.627676",
     "status": "completed"
    },
    "tags": []
   },
   "outputs": [
    {
     "name": "stdout",
     "output_type": "stream",
     "text": [
      "<class 'pandas.core.frame.DataFrame'>\n",
      "Int64Index: 10000 entries, 988903 to 1308571\n",
      "Data columns (total 6 columns):\n",
      " #   Column  Non-Null Count  Dtype \n",
      "---  ------  --------------  ----- \n",
      " 0   target  10000 non-null  int64 \n",
      " 1   ids     10000 non-null  int64 \n",
      " 2   date    10000 non-null  object\n",
      " 3   flag    10000 non-null  object\n",
      " 4   user    10000 non-null  object\n",
      " 5   text    10000 non-null  object\n",
      "dtypes: int64(2), object(4)\n",
      "memory usage: 546.9+ KB\n"
     ]
    }
   ],
   "source": [
    "# complete information of data with datatypes of columns\n",
    "ens_learn.info()"
   ]
  },
  {
   "cell_type": "code",
   "execution_count": 7,
   "id": "4591aea7",
   "metadata": {
    "execution": {
     "iopub.execute_input": "2023-05-12T10:38:17.724468Z",
     "iopub.status.busy": "2023-05-12T10:38:17.723650Z",
     "iopub.status.idle": "2023-05-12T10:38:17.739735Z",
     "shell.execute_reply": "2023-05-12T10:38:17.738534Z"
    },
    "papermill": {
     "duration": 0.040324,
     "end_time": "2023-05-12T10:38:17.742130",
     "exception": false,
     "start_time": "2023-05-12T10:38:17.701806",
     "status": "completed"
    },
    "tags": []
   },
   "outputs": [
    {
     "data": {
      "text/plain": [
       "target    0\n",
       "ids       0\n",
       "date      0\n",
       "flag      0\n",
       "user      0\n",
       "text      0\n",
       "dtype: int64"
      ]
     },
     "execution_count": 7,
     "metadata": {},
     "output_type": "execute_result"
    }
   ],
   "source": [
    "#Checking number of null values\n",
    "ens_learn.isna().sum()"
   ]
  },
  {
   "cell_type": "markdown",
   "id": "f87e5cf5",
   "metadata": {
    "papermill": {
     "duration": 0.0204,
     "end_time": "2023-05-12T10:38:17.783233",
     "exception": false,
     "start_time": "2023-05-12T10:38:17.762833",
     "status": "completed"
    },
    "tags": []
   },
   "source": [
    "- There are no null values in our dataset"
   ]
  },
  {
   "cell_type": "code",
   "execution_count": 8,
   "id": "dc4755df",
   "metadata": {
    "execution": {
     "iopub.execute_input": "2023-05-12T10:38:17.826762Z",
     "iopub.status.busy": "2023-05-12T10:38:17.826311Z",
     "iopub.status.idle": "2023-05-12T10:38:17.836118Z",
     "shell.execute_reply": "2023-05-12T10:38:17.834998Z"
    },
    "papermill": {
     "duration": 0.034342,
     "end_time": "2023-05-12T10:38:17.838258",
     "exception": false,
     "start_time": "2023-05-12T10:38:17.803916",
     "status": "completed"
    },
    "tags": []
   },
   "outputs": [
    {
     "data": {
      "text/plain": [
       "'Fri Apr 17 20:31:47 PDT 2009'"
      ]
     },
     "execution_count": 8,
     "metadata": {},
     "output_type": "execute_result"
    }
   ],
   "source": [
    "# Checking the initial date of tweets  \n",
    "ens_learn['date'].min()"
   ]
  },
  {
   "cell_type": "code",
   "execution_count": 9,
   "id": "3481a452",
   "metadata": {
    "execution": {
     "iopub.execute_input": "2023-05-12T10:38:17.881514Z",
     "iopub.status.busy": "2023-05-12T10:38:17.881066Z",
     "iopub.status.idle": "2023-05-12T10:38:17.890884Z",
     "shell.execute_reply": "2023-05-12T10:38:17.889993Z"
    },
    "papermill": {
     "duration": 0.033853,
     "end_time": "2023-05-12T10:38:17.892979",
     "exception": false,
     "start_time": "2023-05-12T10:38:17.859126",
     "status": "completed"
    },
    "tags": []
   },
   "outputs": [
    {
     "data": {
      "text/plain": [
       "'Wed May 27 07:27:06 PDT 2009'"
      ]
     },
     "execution_count": 9,
     "metadata": {},
     "output_type": "execute_result"
    }
   ],
   "source": [
    "# Checking last date of tweets\n",
    "ens_learn['date'].max()"
   ]
  },
  {
   "cell_type": "code",
   "execution_count": 10,
   "id": "119d42e0",
   "metadata": {
    "execution": {
     "iopub.execute_input": "2023-05-12T10:38:17.937093Z",
     "iopub.status.busy": "2023-05-12T10:38:17.936226Z",
     "iopub.status.idle": "2023-05-12T10:38:17.960237Z",
     "shell.execute_reply": "2023-05-12T10:38:17.958887Z"
    },
    "papermill": {
     "duration": 0.048619,
     "end_time": "2023-05-12T10:38:17.962632",
     "exception": false,
     "start_time": "2023-05-12T10:38:17.914013",
     "status": "completed"
    },
    "tags": []
   },
   "outputs": [
    {
     "name": "stdout",
     "output_type": "stream",
     "text": [
      "0\n"
     ]
    }
   ],
   "source": [
    "# number of duplicates\n",
    "print(ens_learn.duplicated().loc[lambda x : x == True].count())"
   ]
  },
  {
   "cell_type": "markdown",
   "id": "3e334cba",
   "metadata": {
    "papermill": {
     "duration": 0.020937,
     "end_time": "2023-05-12T10:38:18.005147",
     "exception": false,
     "start_time": "2023-05-12T10:38:17.984210",
     "status": "completed"
    },
    "tags": []
   },
   "source": [
    "- There are no duplicates in the dataframe"
   ]
  },
  {
   "cell_type": "markdown",
   "id": "6c70b8d9",
   "metadata": {
    "papermill": {
     "duration": 0.020868,
     "end_time": "2023-05-12T10:38:18.047298",
     "exception": false,
     "start_time": "2023-05-12T10:38:18.026430",
     "status": "completed"
    },
    "tags": []
   },
   "source": [
    "# Data Cleaning\n"
   ]
  },
  {
   "cell_type": "markdown",
   "id": "8767de74",
   "metadata": {
    "papermill": {
     "duration": 0.020702,
     "end_time": "2023-05-12T10:38:18.089059",
     "exception": false,
     "start_time": "2023-05-12T10:38:18.068357",
     "status": "completed"
    },
    "tags": []
   },
   "source": [
    "- Now we are cleaning the data So that our models provide us with better precision and acuracy. I named and define them with what iws happening."
   ]
  },
  {
   "cell_type": "code",
   "execution_count": 11,
   "id": "2b9b7e59",
   "metadata": {
    "execution": {
     "iopub.execute_input": "2023-05-12T10:38:18.133622Z",
     "iopub.status.busy": "2023-05-12T10:38:18.133196Z",
     "iopub.status.idle": "2023-05-12T10:38:37.814566Z",
     "shell.execute_reply": "2023-05-12T10:38:37.813419Z"
    },
    "papermill": {
     "duration": 19.706934,
     "end_time": "2023-05-12T10:38:37.817282",
     "exception": false,
     "start_time": "2023-05-12T10:38:18.110348",
     "status": "completed"
    },
    "tags": []
   },
   "outputs": [],
   "source": [
    "\n",
    "# Removing the URl\n",
    "\n",
    "def rem_url(text):\n",
    "    url = re.compile(r'https?://\\S+|www\\.\\S+')\n",
    "    return url.sub(r'',text)\n",
    "\n",
    "# Removing the stepwords 'english'\n",
    "def rem_stopwords(text):\n",
    "    text = ' '.join([word for word in text.split() if word not in (stopwords.words('english'))])\n",
    "    return text\n",
    "\n",
    "# Removing the html  \n",
    "def rem_html(text):\n",
    "    html=re.compile(r'<.*?>')\n",
    "    return html.sub(r'',text)\n",
    "\n",
    "def remove_at_mentions(text):\n",
    "    return re.sub(r'@\\w+', '', text)\n",
    "\n",
    "\n",
    "# Removing emojis by codes\n",
    "def rem_emoji(text):\n",
    "    emoji_pattern = re.compile(\"[\"\n",
    "                           u\"\\U0001F600-\\U0001F64F\"  \n",
    "                           u\"\\U0001F300-\\U0001F5FF\" \n",
    "                           u\"\\U000024C2-\\U0001F251\"\n",
    "                           \"]+\", flags=re.UNICODE)\n",
    "    return emoji_pattern.sub(r'', text)\n",
    "\n",
    "\n",
    "# Fixing the text\n",
    "def fixing(text):\n",
    "    text = re.sub(r\"Mr\\'s\", \" he is\", text)\n",
    "    text = re.sub(r\"Mr\\'.\", \" he is\", text)\n",
    "    text = re.sub(r\"Ms\\'.\", \" She \", text)\n",
    "    text = re.sub(r\"She\\'s\", \" she is\", text)\n",
    "    text = re.sub(r\"I\\'m\", \" i am\", text)\n",
    "    text = re.sub(r\"haven\\'t\", \" have not\", text)\n",
    "    text = re.sub(r\"you\\'r\", \" you are\", text)\n",
    "    text = re.sub(r\"won\\'t\", \" will not\", text)\n",
    "    text = re.sub(r\"won\\'t've\", \" will not have\", text)\n",
    "    text = re.sub(r\"can\\'t\", \" can not\", text)\n",
    "    text = re.sub(r\"don\\'t\", \" do not\", text)\n",
    "    text = re.sub(r\" plz\", \" please\", text)\n",
    "    text = re.sub(r\"it\\'s\", \" its\", text) \n",
    "    text = re.sub(r\"can\\'t've\", \" can not have\", text)\n",
    "    text = re.sub(r\"ma\\'am\", \" madam\", text)\n",
    "    text = re.sub(r\"let\\'s\", \" let us\", text)\n",
    "    text = re.sub(r\"ain\\'t\", \" am not\", text)\n",
    "    text = re.sub(r\"shan\\'t\", \" shall not\", text)\n",
    "    text = re.sub(r\"sha\\n't\", \" shall not\", text)\n",
    "    text = re.sub(r\"o\\'clock\", \" of the clock\", text)\n",
    "    text = re.sub(r\"y\\'all\", \" you all\", text)\n",
    "    text = re.sub(r\"n\\'t\", \" not\", text)\n",
    "    text = re.sub(r\"n\\'t've\", \" not have\", text)\n",
    "    text = re.sub(r\"\\'re\", \" are\", text)\n",
    "    text = re.sub(r\"\\'s\", \" is\", text)\n",
    "    text = re.sub(r\"\\'d\", \" would\", text)\n",
    "    text = re.sub(r\"\\'d've\", \" would have\", text)\n",
    "    text = re.sub(r\"\\'ll\", \" will\", text)\n",
    "    text = re.sub(r\"\\'ll've\", \" will have\", text)\n",
    "    text = re.sub(r\"\\'t\", \" not\", text)\n",
    "    text = re.sub(r\"\\'ve\", \" have\", text)\n",
    "    text = re.sub(r\"\\'m\", \" am\", text)\n",
    "    text = re.sub(r\"\\'re\", \" are\", text)\n",
    "    text = re.sub(r\"He\\'s\", \" he is\", text)\n",
    "    text = re.sub(r\"in\\'s\", \" in\", text)\n",
    "    return text\n",
    "\n",
    "# Seperate alphabets\n",
    "def sep_alphabets(text):\n",
    "    words = text\n",
    "    words = re.findall(r\"[^\\W\\d_]+|\\d+\", words)\n",
    "    return \" \".join(words)\n",
    "\n",
    "\n",
    "def tweet_to_words(tweet):\n",
    "    letters_only = re.sub(\"[^a-zA-Z]\", \" \",tweet) \n",
    "    words = letters_only.lower().split()                             \n",
    "    stops = set(stopwords.words(\"english\"))                  \n",
    "    meaningful_words = [w for w in words if not w in stops] \n",
    "    return( \" \".join( meaningful_words ))\n",
    "\n",
    "ens_learn['final_text'] = ens_learn['text']\n",
    "\n",
    "ens_learn['final_text'] = ens_learn['final_text'].astype(str).apply(remove_at_mentions)\n",
    "ens_learn['final_text'] = ens_learn['final_text'].apply(lambda x : rem_url(x))\n",
    "ens_learn['final_text'] = ens_learn['final_text'].apply(lambda x : rem_stopwords(x))\n",
    "ens_learn['final_text'] = ens_learn['final_text'].apply(lambda x : rem_html(x))\n",
    "ens_learn['final_text'] = ens_learn['final_text'].apply(lambda x : rem_emoji(x))\n",
    "ens_learn['final_text'] = ens_learn['final_text'].apply(lambda x : fixing(x))\n",
    "ens_learn['final_text'] = ens_learn['final_text'].apply(lambda x : sep_alphabets(x))\n",
    "ens_learn['final_text'] = ens_learn['final_text'].apply(lambda x : tweet_to_words(x))\n",
    "ens_learn['final_text'] = ens_learn['final_text'].astype(str).replace(\"plz\", \"please\", regex=True)"
   ]
  },
  {
   "cell_type": "markdown",
   "id": "2209eadd",
   "metadata": {
    "papermill": {
     "duration": 0.020666,
     "end_time": "2023-05-12T10:38:37.859610",
     "exception": false,
     "start_time": "2023-05-12T10:38:37.838944",
     "status": "completed"
    },
    "tags": []
   },
   "source": [
    "- After cleaning the whole data whoich we take, Now we will see the outcomes in our dataframe. We remove urls, html,emojis,make words proper So the reader and machine can read easily and separate alphabets with spaces"
   ]
  },
  {
   "cell_type": "code",
   "execution_count": 12,
   "id": "a302bf26",
   "metadata": {
    "execution": {
     "iopub.execute_input": "2023-05-12T10:38:37.903145Z",
     "iopub.status.busy": "2023-05-12T10:38:37.902732Z",
     "iopub.status.idle": "2023-05-12T10:38:37.912115Z",
     "shell.execute_reply": "2023-05-12T10:38:37.910917Z"
    },
    "papermill": {
     "duration": 0.033796,
     "end_time": "2023-05-12T10:38:37.914227",
     "exception": false,
     "start_time": "2023-05-12T10:38:37.880431",
     "status": "completed"
    },
    "tags": []
   },
   "outputs": [
    {
     "data": {
      "text/plain": [
       "988903                         nice see able tweet pen paper\n",
       "739127     happy fathers day daddys deserve iit urgh stil...\n",
       "1186996    oh good place like go hoppi hari beautiful fun...\n",
       "901630            france last friday also coming one working\n",
       "1083835                            totally recommended sweet\n",
       "                                 ...                        \n",
       "1255110                                         omw sox game\n",
       "215909                   miss every carlos show super bummed\n",
       "183564             cant even talk joe without getting moaned\n",
       "1540892                lines vines trying times amazing love\n",
       "1308571    wow congrats need put something buy even bootl...\n",
       "Name: final_text, Length: 10000, dtype: object"
      ]
     },
     "execution_count": 12,
     "metadata": {},
     "output_type": "execute_result"
    }
   ],
   "source": [
    "ens_learn['final_text']"
   ]
  },
  {
   "cell_type": "markdown",
   "id": "7efd46c0",
   "metadata": {
    "papermill": {
     "duration": 0.02073,
     "end_time": "2023-05-12T10:38:37.956498",
     "exception": false,
     "start_time": "2023-05-12T10:38:37.935768",
     "status": "completed"
    },
    "tags": []
   },
   "source": [
    "# Tokenization "
   ]
  },
  {
   "cell_type": "code",
   "execution_count": 13,
   "id": "f7e14c88",
   "metadata": {
    "execution": {
     "iopub.execute_input": "2023-05-12T10:38:38.000542Z",
     "iopub.status.busy": "2023-05-12T10:38:38.000133Z",
     "iopub.status.idle": "2023-05-12T10:38:38.024298Z",
     "shell.execute_reply": "2023-05-12T10:38:38.023190Z"
    },
    "papermill": {
     "duration": 0.048991,
     "end_time": "2023-05-12T10:38:38.026441",
     "exception": false,
     "start_time": "2023-05-12T10:38:37.977450",
     "status": "completed"
    },
    "tags": []
   },
   "outputs": [
    {
     "data": {
      "text/plain": [
       "988903                  [nice, see, able, tweet, pen, paper]\n",
       "739127     [happy, fathers, day, daddys, deserve, iit, ur...\n",
       "1186996    [oh, good, place, like, go, hoppi, hari, beaut...\n",
       "901630     [france, last, friday, also, coming, one, work...\n",
       "1083835                        [totally, recommended, sweet]\n",
       "                                 ...                        \n",
       "1255110                                     [omw, sox, game]\n",
       "215909            [miss, every, carlos, show, super, bummed]\n",
       "183564     [cant, even, talk, joe, without, getting, moaned]\n",
       "1540892         [lines, vines, trying, times, amazing, love]\n",
       "1308571    [wow, congrats, need, put, something, buy, eve...\n",
       "Name: new_tokens, Length: 10000, dtype: object"
      ]
     },
     "execution_count": 13,
     "metadata": {},
     "output_type": "execute_result"
    }
   ],
   "source": [
    "# A function for the tokenization\n",
    "def tokenize(text):\n",
    "  return text.split()\n",
    "\n",
    "  # Apply the tokenization function to the 'text' column\n",
    "ens_learn['new_tokens'] = ens_learn['final_text'].apply(tokenize)\n",
    "ens_learn['new_tokens']"
   ]
  },
  {
   "cell_type": "markdown",
   "id": "a853d17d",
   "metadata": {
    "papermill": {
     "duration": 0.020909,
     "end_time": "2023-05-12T10:38:38.068718",
     "exception": false,
     "start_time": "2023-05-12T10:38:38.047809",
     "status": "completed"
    },
    "tags": []
   },
   "source": [
    "- Breaking down a larger piece of text into smaller pieces called tokens. These tokens can be individual words, phrases, symbols, or even individual characters. Tokenization allows for more accurate analysis of text data by allowing the model to focus on individual words or phrases rather than the entire document."
   ]
  },
  {
   "cell_type": "markdown",
   "id": "c3726361",
   "metadata": {
    "papermill": {
     "duration": 0.020904,
     "end_time": "2023-05-12T10:38:38.110788",
     "exception": false,
     "start_time": "2023-05-12T10:38:38.089884",
     "status": "completed"
    },
    "tags": []
   },
   "source": [
    "# Stemming "
   ]
  },
  {
   "cell_type": "code",
   "execution_count": 14,
   "id": "189e952c",
   "metadata": {
    "execution": {
     "iopub.execute_input": "2023-05-12T10:38:38.154961Z",
     "iopub.status.busy": "2023-05-12T10:38:38.154529Z",
     "iopub.status.idle": "2023-05-12T10:38:39.246504Z",
     "shell.execute_reply": "2023-05-12T10:38:39.245334Z"
    },
    "papermill": {
     "duration": 1.116959,
     "end_time": "2023-05-12T10:38:39.248971",
     "exception": false,
     "start_time": "2023-05-12T10:38:38.132012",
     "status": "completed"
    },
    "tags": []
   },
   "outputs": [
    {
     "data": {
      "text/plain": [
       "988903                          nice see abl tweet pen paper\n",
       "739127     happi father day daddi deserv iit urgh still l...\n",
       "1186996    oh good place like go hoppi hari beauti funni ...\n",
       "901630                  franc last friday also come one work\n",
       "1083835                                total recommend sweet\n",
       "                                 ...                        \n",
       "1255110                                         omw sox game\n",
       "215909                       miss everi carlo show super bum\n",
       "183564                   cant even talk joe without get moan\n",
       "1540892                         line vine tri time amaz love\n",
       "1308571    wow congrat need put someth buy even bootleg rock\n",
       "Name: stemming, Length: 10000, dtype: object"
      ]
     },
     "execution_count": 14,
     "metadata": {},
     "output_type": "execute_result"
    }
   ],
   "source": [
    "\n",
    "snowbs = SnowballStemmer(language='english')\n",
    "def stemmer(text):\n",
    "    text = [snowbs.stem(word) for word in text.split(' ')]\n",
    "    text = \" \".join(text)\n",
    "    return text\n",
    "\n",
    "ens_learn['stemming'] = ens_learn['final_text'].apply(stemmer)\n",
    "ens_learn['stemming']\n"
   ]
  },
  {
   "cell_type": "markdown",
   "id": "6d6e1a5e",
   "metadata": {
    "papermill": {
     "duration": 0.020932,
     "end_time": "2023-05-12T10:38:39.291183",
     "exception": false,
     "start_time": "2023-05-12T10:38:39.270251",
     "status": "completed"
    },
    "tags": []
   },
   "source": [
    "- The main purpose of stemming is to reduce the dimensionality of the data by reducing the number of unique words in the text. I have made a separate column named stemming for the results and we can see the final text and the stemmed text below."
   ]
  },
  {
   "cell_type": "code",
   "execution_count": 15,
   "id": "f99aaecd",
   "metadata": {
    "execution": {
     "iopub.execute_input": "2023-05-12T10:38:39.335869Z",
     "iopub.status.busy": "2023-05-12T10:38:39.335445Z",
     "iopub.status.idle": "2023-05-12T10:38:39.358866Z",
     "shell.execute_reply": "2023-05-12T10:38:39.357683Z"
    },
    "papermill": {
     "duration": 0.048481,
     "end_time": "2023-05-12T10:38:39.361075",
     "exception": false,
     "start_time": "2023-05-12T10:38:39.312594",
     "status": "completed"
    },
    "tags": []
   },
   "outputs": [
    {
     "data": {
      "text/html": [
       "<div>\n",
       "<style scoped>\n",
       "    .dataframe tbody tr th:only-of-type {\n",
       "        vertical-align: middle;\n",
       "    }\n",
       "\n",
       "    .dataframe tbody tr th {\n",
       "        vertical-align: top;\n",
       "    }\n",
       "\n",
       "    .dataframe thead th {\n",
       "        text-align: right;\n",
       "    }\n",
       "</style>\n",
       "<table border=\"1\" class=\"dataframe\">\n",
       "  <thead>\n",
       "    <tr style=\"text-align: right;\">\n",
       "      <th></th>\n",
       "      <th>target</th>\n",
       "      <th>ids</th>\n",
       "      <th>date</th>\n",
       "      <th>flag</th>\n",
       "      <th>user</th>\n",
       "      <th>text</th>\n",
       "      <th>final_text</th>\n",
       "      <th>new_tokens</th>\n",
       "      <th>stemming</th>\n",
       "    </tr>\n",
       "  </thead>\n",
       "  <tbody>\n",
       "    <tr>\n",
       "      <th>988903</th>\n",
       "      <td>4</td>\n",
       "      <td>1834812857</td>\n",
       "      <td>Mon May 18 04:17:02 PDT 2009</td>\n",
       "      <td>NO_QUERY</td>\n",
       "      <td>GrahamChastney</td>\n",
       "      <td>@vsmith1 Nice to see you have been able to twe...</td>\n",
       "      <td>nice see able tweet pen paper</td>\n",
       "      <td>[nice, see, able, tweet, pen, paper]</td>\n",
       "      <td>nice see abl tweet pen paper</td>\n",
       "    </tr>\n",
       "    <tr>\n",
       "      <th>739127</th>\n",
       "      <td>0</td>\n",
       "      <td>2265650549</td>\n",
       "      <td>Sun Jun 21 07:02:08 PDT 2009</td>\n",
       "      <td>NO_QUERY</td>\n",
       "      <td>MrSBiiGgaVeLLii</td>\n",
       "      <td>HaPpy FaThErS DaY 2 ALL ThE DaDdYs OuT ThErE T...</td>\n",
       "      <td>happy fathers day daddys deserve iit urgh stil...</td>\n",
       "      <td>[happy, fathers, day, daddys, deserve, iit, ur...</td>\n",
       "      <td>happi father day daddi deserv iit urgh still l...</td>\n",
       "    </tr>\n",
       "    <tr>\n",
       "      <th>1186996</th>\n",
       "      <td>4</td>\n",
       "      <td>1983083184</td>\n",
       "      <td>Sun May 31 12:28:20 PDT 2009</td>\n",
       "      <td>NO_QUERY</td>\n",
       "      <td>jeess_</td>\n",
       "      <td>@dougiemcfly oh that's good ^^  the place I mo...</td>\n",
       "      <td>oh good place like go hoppi hari beautiful fun...</td>\n",
       "      <td>[oh, good, place, like, go, hoppi, hari, beaut...</td>\n",
       "      <td>oh good place like go hoppi hari beauti funni ...</td>\n",
       "    </tr>\n",
       "    <tr>\n",
       "      <th>901630</th>\n",
       "      <td>4</td>\n",
       "      <td>1694273646</td>\n",
       "      <td>Mon May 04 01:52:19 PDT 2009</td>\n",
       "      <td>NO_QUERY</td>\n",
       "      <td>jbfeldis</td>\n",
       "      <td>@dangriffey In France it was last Friday and a...</td>\n",
       "      <td>france last friday also coming one working</td>\n",
       "      <td>[france, last, friday, also, coming, one, work...</td>\n",
       "      <td>franc last friday also come one work</td>\n",
       "    </tr>\n",
       "    <tr>\n",
       "      <th>1083835</th>\n",
       "      <td>4</td>\n",
       "      <td>1968927342</td>\n",
       "      <td>Fri May 29 22:34:00 PDT 2009</td>\n",
       "      <td>NO_QUERY</td>\n",
       "      <td>jeNELLY_n</td>\n",
       "      <td>UP in 3D is totally recommended  it was so sweet.</td>\n",
       "      <td>totally recommended sweet</td>\n",
       "      <td>[totally, recommended, sweet]</td>\n",
       "      <td>total recommend sweet</td>\n",
       "    </tr>\n",
       "    <tr>\n",
       "      <th>...</th>\n",
       "      <td>...</td>\n",
       "      <td>...</td>\n",
       "      <td>...</td>\n",
       "      <td>...</td>\n",
       "      <td>...</td>\n",
       "      <td>...</td>\n",
       "      <td>...</td>\n",
       "      <td>...</td>\n",
       "      <td>...</td>\n",
       "    </tr>\n",
       "    <tr>\n",
       "      <th>1255110</th>\n",
       "      <td>4</td>\n",
       "      <td>1997217376</td>\n",
       "      <td>Mon Jun 01 16:27:44 PDT 2009</td>\n",
       "      <td>NO_QUERY</td>\n",
       "      <td>Chiggady</td>\n",
       "      <td>Omw to the Sox game</td>\n",
       "      <td>omw sox game</td>\n",
       "      <td>[omw, sox, game]</td>\n",
       "      <td>omw sox game</td>\n",
       "    </tr>\n",
       "    <tr>\n",
       "      <th>215909</th>\n",
       "      <td>0</td>\n",
       "      <td>1975587381</td>\n",
       "      <td>Sat May 30 15:28:29 PDT 2009</td>\n",
       "      <td>NO_QUERY</td>\n",
       "      <td>Rachelskirts</td>\n",
       "      <td>@RobInterrupted: I've had to miss EVERY Carlos...</td>\n",
       "      <td>miss every carlos show super bummed</td>\n",
       "      <td>[miss, every, carlos, show, super, bummed]</td>\n",
       "      <td>miss everi carlo show super bum</td>\n",
       "    </tr>\n",
       "    <tr>\n",
       "      <th>183564</th>\n",
       "      <td>0</td>\n",
       "      <td>1967452989</td>\n",
       "      <td>Fri May 29 19:36:26 PDT 2009</td>\n",
       "      <td>NO_QUERY</td>\n",
       "      <td>ohjester</td>\n",
       "      <td>Cant even talk to joe without getting moaned at</td>\n",
       "      <td>cant even talk joe without getting moaned</td>\n",
       "      <td>[cant, even, talk, joe, without, getting, moaned]</td>\n",
       "      <td>cant even talk joe without get moan</td>\n",
       "    </tr>\n",
       "    <tr>\n",
       "      <th>1540892</th>\n",
       "      <td>4</td>\n",
       "      <td>2180576929</td>\n",
       "      <td>Mon Jun 15 10:39:32 PDT 2009</td>\n",
       "      <td>NO_QUERY</td>\n",
       "      <td>sarahclarke94</td>\n",
       "      <td>lines vines and trying times is amazing... i l...</td>\n",
       "      <td>lines vines trying times amazing love</td>\n",
       "      <td>[lines, vines, trying, times, amazing, love]</td>\n",
       "      <td>line vine tri time amaz love</td>\n",
       "    </tr>\n",
       "    <tr>\n",
       "      <th>1308571</th>\n",
       "      <td>4</td>\n",
       "      <td>2012863106</td>\n",
       "      <td>Tue Jun 02 21:26:08 PDT 2009</td>\n",
       "      <td>NO_QUERY</td>\n",
       "      <td>Poetrygrl</td>\n",
       "      <td>@DdotJPeriod what! Wow congrats. What do you d...</td>\n",
       "      <td>wow congrats need put something buy even bootl...</td>\n",
       "      <td>[wow, congrats, need, put, something, buy, eve...</td>\n",
       "      <td>wow congrat need put someth buy even bootleg rock</td>\n",
       "    </tr>\n",
       "  </tbody>\n",
       "</table>\n",
       "<p>10000 rows × 9 columns</p>\n",
       "</div>"
      ],
      "text/plain": [
       "         target         ids                          date      flag  \\\n",
       "988903        4  1834812857  Mon May 18 04:17:02 PDT 2009  NO_QUERY   \n",
       "739127        0  2265650549  Sun Jun 21 07:02:08 PDT 2009  NO_QUERY   \n",
       "1186996       4  1983083184  Sun May 31 12:28:20 PDT 2009  NO_QUERY   \n",
       "901630        4  1694273646  Mon May 04 01:52:19 PDT 2009  NO_QUERY   \n",
       "1083835       4  1968927342  Fri May 29 22:34:00 PDT 2009  NO_QUERY   \n",
       "...         ...         ...                           ...       ...   \n",
       "1255110       4  1997217376  Mon Jun 01 16:27:44 PDT 2009  NO_QUERY   \n",
       "215909        0  1975587381  Sat May 30 15:28:29 PDT 2009  NO_QUERY   \n",
       "183564        0  1967452989  Fri May 29 19:36:26 PDT 2009  NO_QUERY   \n",
       "1540892       4  2180576929  Mon Jun 15 10:39:32 PDT 2009  NO_QUERY   \n",
       "1308571       4  2012863106  Tue Jun 02 21:26:08 PDT 2009  NO_QUERY   \n",
       "\n",
       "                    user                                               text  \\\n",
       "988903    GrahamChastney  @vsmith1 Nice to see you have been able to twe...   \n",
       "739127   MrSBiiGgaVeLLii  HaPpy FaThErS DaY 2 ALL ThE DaDdYs OuT ThErE T...   \n",
       "1186996           jeess_  @dougiemcfly oh that's good ^^  the place I mo...   \n",
       "901630          jbfeldis  @dangriffey In France it was last Friday and a...   \n",
       "1083835        jeNELLY_n  UP in 3D is totally recommended  it was so sweet.   \n",
       "...                  ...                                                ...   \n",
       "1255110         Chiggady                               Omw to the Sox game    \n",
       "215909      Rachelskirts  @RobInterrupted: I've had to miss EVERY Carlos...   \n",
       "183564          ohjester   Cant even talk to joe without getting moaned at    \n",
       "1540892    sarahclarke94  lines vines and trying times is amazing... i l...   \n",
       "1308571        Poetrygrl  @DdotJPeriod what! Wow congrats. What do you d...   \n",
       "\n",
       "                                                final_text  \\\n",
       "988903                       nice see able tweet pen paper   \n",
       "739127   happy fathers day daddys deserve iit urgh stil...   \n",
       "1186996  oh good place like go hoppi hari beautiful fun...   \n",
       "901630          france last friday also coming one working   \n",
       "1083835                          totally recommended sweet   \n",
       "...                                                    ...   \n",
       "1255110                                       omw sox game   \n",
       "215909                 miss every carlos show super bummed   \n",
       "183564           cant even talk joe without getting moaned   \n",
       "1540892              lines vines trying times amazing love   \n",
       "1308571  wow congrats need put something buy even bootl...   \n",
       "\n",
       "                                                new_tokens  \\\n",
       "988903                [nice, see, able, tweet, pen, paper]   \n",
       "739127   [happy, fathers, day, daddys, deserve, iit, ur...   \n",
       "1186996  [oh, good, place, like, go, hoppi, hari, beaut...   \n",
       "901630   [france, last, friday, also, coming, one, work...   \n",
       "1083835                      [totally, recommended, sweet]   \n",
       "...                                                    ...   \n",
       "1255110                                   [omw, sox, game]   \n",
       "215909          [miss, every, carlos, show, super, bummed]   \n",
       "183564   [cant, even, talk, joe, without, getting, moaned]   \n",
       "1540892       [lines, vines, trying, times, amazing, love]   \n",
       "1308571  [wow, congrats, need, put, something, buy, eve...   \n",
       "\n",
       "                                                  stemming  \n",
       "988903                        nice see abl tweet pen paper  \n",
       "739127   happi father day daddi deserv iit urgh still l...  \n",
       "1186996  oh good place like go hoppi hari beauti funni ...  \n",
       "901630                franc last friday also come one work  \n",
       "1083835                              total recommend sweet  \n",
       "...                                                    ...  \n",
       "1255110                                       omw sox game  \n",
       "215909                     miss everi carlo show super bum  \n",
       "183564                 cant even talk joe without get moan  \n",
       "1540892                       line vine tri time amaz love  \n",
       "1308571  wow congrat need put someth buy even bootleg rock  \n",
       "\n",
       "[10000 rows x 9 columns]"
      ]
     },
     "execution_count": 15,
     "metadata": {},
     "output_type": "execute_result"
    }
   ],
   "source": [
    "ens_learn"
   ]
  },
  {
   "cell_type": "markdown",
   "id": "60c13a3e",
   "metadata": {
    "papermill": {
     "duration": 0.021677,
     "end_time": "2023-05-12T10:38:39.404714",
     "exception": false,
     "start_time": "2023-05-12T10:38:39.383037",
     "status": "completed"
    },
    "tags": []
   },
   "source": [
    "# Visualization "
   ]
  },
  {
   "cell_type": "markdown",
   "id": "9f3d9a6a",
   "metadata": {
    "papermill": {
     "duration": 0.021925,
     "end_time": "2023-05-12T10:38:39.449526",
     "exception": false,
     "start_time": "2023-05-12T10:38:39.427601",
     "status": "completed"
    },
    "tags": []
   },
   "source": [
    "- First we are grouping to get the tweets date wise and then we will visualize the dataframe and see the increasing counts of tweets with the dates"
   ]
  },
  {
   "cell_type": "code",
   "execution_count": 16,
   "id": "fc4a6867",
   "metadata": {
    "execution": {
     "iopub.execute_input": "2023-05-12T10:38:39.495742Z",
     "iopub.status.busy": "2023-05-12T10:38:39.495304Z",
     "iopub.status.idle": "2023-05-12T10:38:41.156470Z",
     "shell.execute_reply": "2023-05-12T10:38:41.155337Z"
    },
    "papermill": {
     "duration": 1.687141,
     "end_time": "2023-05-12T10:38:41.159043",
     "exception": false,
     "start_time": "2023-05-12T10:38:39.471902",
     "status": "completed"
    },
    "tags": []
   },
   "outputs": [
    {
     "data": {
      "text/html": [
       "<div>\n",
       "<style scoped>\n",
       "    .dataframe tbody tr th:only-of-type {\n",
       "        vertical-align: middle;\n",
       "    }\n",
       "\n",
       "    .dataframe tbody tr th {\n",
       "        vertical-align: top;\n",
       "    }\n",
       "\n",
       "    .dataframe thead th {\n",
       "        text-align: right;\n",
       "    }\n",
       "</style>\n",
       "<table border=\"1\" class=\"dataframe\">\n",
       "  <thead>\n",
       "    <tr style=\"text-align: right;\">\n",
       "      <th></th>\n",
       "      <th>Date</th>\n",
       "      <th>Count</th>\n",
       "    </tr>\n",
       "  </thead>\n",
       "  <tbody>\n",
       "    <tr>\n",
       "      <th>0</th>\n",
       "      <td>2009-04-06</td>\n",
       "      <td>22</td>\n",
       "    </tr>\n",
       "    <tr>\n",
       "      <th>1</th>\n",
       "      <td>2009-04-07</td>\n",
       "      <td>112</td>\n",
       "    </tr>\n",
       "    <tr>\n",
       "      <th>2</th>\n",
       "      <td>2009-04-17</td>\n",
       "      <td>26</td>\n",
       "    </tr>\n",
       "    <tr>\n",
       "      <th>3</th>\n",
       "      <td>2009-04-18</td>\n",
       "      <td>162</td>\n",
       "    </tr>\n",
       "    <tr>\n",
       "      <th>4</th>\n",
       "      <td>2009-04-19</td>\n",
       "      <td>158</td>\n",
       "    </tr>\n",
       "    <tr>\n",
       "      <th>5</th>\n",
       "      <td>2009-04-20</td>\n",
       "      <td>120</td>\n",
       "    </tr>\n",
       "    <tr>\n",
       "      <th>6</th>\n",
       "      <td>2009-04-21</td>\n",
       "      <td>49</td>\n",
       "    </tr>\n",
       "    <tr>\n",
       "      <th>7</th>\n",
       "      <td>2009-05-01</td>\n",
       "      <td>51</td>\n",
       "    </tr>\n",
       "    <tr>\n",
       "      <th>8</th>\n",
       "      <td>2009-05-02</td>\n",
       "      <td>167</td>\n",
       "    </tr>\n",
       "    <tr>\n",
       "      <th>9</th>\n",
       "      <td>2009-05-03</td>\n",
       "      <td>238</td>\n",
       "    </tr>\n",
       "    <tr>\n",
       "      <th>10</th>\n",
       "      <td>2009-05-04</td>\n",
       "      <td>95</td>\n",
       "    </tr>\n",
       "    <tr>\n",
       "      <th>11</th>\n",
       "      <td>2009-05-09</td>\n",
       "      <td>81</td>\n",
       "    </tr>\n",
       "    <tr>\n",
       "      <th>12</th>\n",
       "      <td>2009-05-10</td>\n",
       "      <td>156</td>\n",
       "    </tr>\n",
       "    <tr>\n",
       "      <th>13</th>\n",
       "      <td>2009-05-11</td>\n",
       "      <td>29</td>\n",
       "    </tr>\n",
       "    <tr>\n",
       "      <th>14</th>\n",
       "      <td>2009-05-13</td>\n",
       "      <td>24</td>\n",
       "    </tr>\n",
       "    <tr>\n",
       "      <th>15</th>\n",
       "      <td>2009-05-14</td>\n",
       "      <td>117</td>\n",
       "    </tr>\n",
       "    <tr>\n",
       "      <th>16</th>\n",
       "      <td>2009-05-16</td>\n",
       "      <td>60</td>\n",
       "    </tr>\n",
       "    <tr>\n",
       "      <th>17</th>\n",
       "      <td>2009-05-17</td>\n",
       "      <td>256</td>\n",
       "    </tr>\n",
       "    <tr>\n",
       "      <th>18</th>\n",
       "      <td>2009-05-18</td>\n",
       "      <td>219</td>\n",
       "    </tr>\n",
       "    <tr>\n",
       "      <th>19</th>\n",
       "      <td>2009-05-21</td>\n",
       "      <td>21</td>\n",
       "    </tr>\n",
       "    <tr>\n",
       "      <th>20</th>\n",
       "      <td>2009-05-22</td>\n",
       "      <td>240</td>\n",
       "    </tr>\n",
       "    <tr>\n",
       "      <th>21</th>\n",
       "      <td>2009-05-25</td>\n",
       "      <td>2</td>\n",
       "    </tr>\n",
       "    <tr>\n",
       "      <th>22</th>\n",
       "      <td>2009-05-26</td>\n",
       "      <td>51</td>\n",
       "    </tr>\n",
       "    <tr>\n",
       "      <th>23</th>\n",
       "      <td>2009-05-27</td>\n",
       "      <td>5</td>\n",
       "    </tr>\n",
       "    <tr>\n",
       "      <th>24</th>\n",
       "      <td>2009-05-28</td>\n",
       "      <td>106</td>\n",
       "    </tr>\n",
       "    <tr>\n",
       "      <th>25</th>\n",
       "      <td>2009-05-29</td>\n",
       "      <td>458</td>\n",
       "    </tr>\n",
       "    <tr>\n",
       "      <th>26</th>\n",
       "      <td>2009-05-30</td>\n",
       "      <td>666</td>\n",
       "    </tr>\n",
       "    <tr>\n",
       "      <th>27</th>\n",
       "      <td>2009-05-31</td>\n",
       "      <td>535</td>\n",
       "    </tr>\n",
       "    <tr>\n",
       "      <th>28</th>\n",
       "      <td>2009-06-01</td>\n",
       "      <td>688</td>\n",
       "    </tr>\n",
       "    <tr>\n",
       "      <th>29</th>\n",
       "      <td>2009-06-02</td>\n",
       "      <td>387</td>\n",
       "    </tr>\n",
       "    <tr>\n",
       "      <th>30</th>\n",
       "      <td>2009-06-03</td>\n",
       "      <td>249</td>\n",
       "    </tr>\n",
       "    <tr>\n",
       "      <th>31</th>\n",
       "      <td>2009-06-04</td>\n",
       "      <td>61</td>\n",
       "    </tr>\n",
       "    <tr>\n",
       "      <th>32</th>\n",
       "      <td>2009-06-05</td>\n",
       "      <td>367</td>\n",
       "    </tr>\n",
       "    <tr>\n",
       "      <th>33</th>\n",
       "      <td>2009-06-06</td>\n",
       "      <td>655</td>\n",
       "    </tr>\n",
       "    <tr>\n",
       "      <th>34</th>\n",
       "      <td>2009-06-07</td>\n",
       "      <td>625</td>\n",
       "    </tr>\n",
       "    <tr>\n",
       "      <th>35</th>\n",
       "      <td>2009-06-14</td>\n",
       "      <td>45</td>\n",
       "    </tr>\n",
       "    <tr>\n",
       "      <th>36</th>\n",
       "      <td>2009-06-15</td>\n",
       "      <td>701</td>\n",
       "    </tr>\n",
       "    <tr>\n",
       "      <th>37</th>\n",
       "      <td>2009-06-16</td>\n",
       "      <td>412</td>\n",
       "    </tr>\n",
       "    <tr>\n",
       "      <th>38</th>\n",
       "      <td>2009-06-17</td>\n",
       "      <td>290</td>\n",
       "    </tr>\n",
       "    <tr>\n",
       "      <th>39</th>\n",
       "      <td>2009-06-18</td>\n",
       "      <td>276</td>\n",
       "    </tr>\n",
       "    <tr>\n",
       "      <th>40</th>\n",
       "      <td>2009-06-19</td>\n",
       "      <td>273</td>\n",
       "    </tr>\n",
       "    <tr>\n",
       "      <th>41</th>\n",
       "      <td>2009-06-20</td>\n",
       "      <td>290</td>\n",
       "    </tr>\n",
       "    <tr>\n",
       "      <th>42</th>\n",
       "      <td>2009-06-21</td>\n",
       "      <td>108</td>\n",
       "    </tr>\n",
       "    <tr>\n",
       "      <th>43</th>\n",
       "      <td>2009-06-22</td>\n",
       "      <td>83</td>\n",
       "    </tr>\n",
       "    <tr>\n",
       "      <th>44</th>\n",
       "      <td>2009-06-23</td>\n",
       "      <td>102</td>\n",
       "    </tr>\n",
       "    <tr>\n",
       "      <th>45</th>\n",
       "      <td>2009-06-24</td>\n",
       "      <td>27</td>\n",
       "    </tr>\n",
       "    <tr>\n",
       "      <th>46</th>\n",
       "      <td>2009-06-25</td>\n",
       "      <td>135</td>\n",
       "    </tr>\n",
       "  </tbody>\n",
       "</table>\n",
       "</div>"
      ],
      "text/plain": [
       "          Date  Count\n",
       "0   2009-04-06     22\n",
       "1   2009-04-07    112\n",
       "2   2009-04-17     26\n",
       "3   2009-04-18    162\n",
       "4   2009-04-19    158\n",
       "5   2009-04-20    120\n",
       "6   2009-04-21     49\n",
       "7   2009-05-01     51\n",
       "8   2009-05-02    167\n",
       "9   2009-05-03    238\n",
       "10  2009-05-04     95\n",
       "11  2009-05-09     81\n",
       "12  2009-05-10    156\n",
       "13  2009-05-11     29\n",
       "14  2009-05-13     24\n",
       "15  2009-05-14    117\n",
       "16  2009-05-16     60\n",
       "17  2009-05-17    256\n",
       "18  2009-05-18    219\n",
       "19  2009-05-21     21\n",
       "20  2009-05-22    240\n",
       "21  2009-05-25      2\n",
       "22  2009-05-26     51\n",
       "23  2009-05-27      5\n",
       "24  2009-05-28    106\n",
       "25  2009-05-29    458\n",
       "26  2009-05-30    666\n",
       "27  2009-05-31    535\n",
       "28  2009-06-01    688\n",
       "29  2009-06-02    387\n",
       "30  2009-06-03    249\n",
       "31  2009-06-04     61\n",
       "32  2009-06-05    367\n",
       "33  2009-06-06    655\n",
       "34  2009-06-07    625\n",
       "35  2009-06-14     45\n",
       "36  2009-06-15    701\n",
       "37  2009-06-16    412\n",
       "38  2009-06-17    290\n",
       "39  2009-06-18    276\n",
       "40  2009-06-19    273\n",
       "41  2009-06-20    290\n",
       "42  2009-06-21    108\n",
       "43  2009-06-22     83\n",
       "44  2009-06-23    102\n",
       "45  2009-06-24     27\n",
       "46  2009-06-25    135"
      ]
     },
     "execution_count": 16,
     "metadata": {},
     "output_type": "execute_result"
    }
   ],
   "source": [
    "# Counting number of tweets with dates correspondingly \n",
    "\n",
    "ens_learn['date'] = pd.to_datetime(ens_learn['date']).dt.date\n",
    "numberoftweets = ens_learn.groupby('date').size()\n",
    "numberoftweets=numberoftweets.reset_index()\n",
    "numberoftweets.columns=['Date', 'Count']\n",
    "numberoftweets\n"
   ]
  },
  {
   "cell_type": "code",
   "execution_count": 17,
   "id": "10617202",
   "metadata": {
    "execution": {
     "iopub.execute_input": "2023-05-12T10:38:41.206248Z",
     "iopub.status.busy": "2023-05-12T10:38:41.205422Z",
     "iopub.status.idle": "2023-05-12T10:38:42.123398Z",
     "shell.execute_reply": "2023-05-12T10:38:42.122431Z"
    },
    "papermill": {
     "duration": 0.944321,
     "end_time": "2023-05-12T10:38:42.125940",
     "exception": false,
     "start_time": "2023-05-12T10:38:41.181619",
     "status": "completed"
    },
    "tags": []
   },
   "outputs": [
    {
     "data": {
      "image/png": "[encoded data removed]",
      "text/plain": [
       "<Figure size 1440x1296 with 1 Axes>"
      ]
     },
     "metadata": {
      "needs_background": "light"
     },
     "output_type": "display_data"
    }
   ],
   "source": [
    "# Plotting the tweets with counts\n",
    "\n",
    "plt.figure(figsize=(20,18))\n",
    "show = sb.countplot(data = ens_learn, y = 'date',\n",
    "                   palette='flare',\n",
    "                   order = ens_learn.date.value_counts().index)\n",
    "\n",
    "show.bar_label(show.containers[0])\n",
    "show.set_title('Increasing Counts of Tweets Vs Date', size = '20')\n",
    "plt.ylabel(\"Dates\", size = '20')\n",
    "plt.xlabel(\"Counts of Tweets\", size = '20')\n",
    "plt.show()"
   ]
  },
  {
   "cell_type": "markdown",
   "id": "1ac299c5",
   "metadata": {
    "papermill": {
     "duration": 0.02329,
     "end_time": "2023-05-12T10:38:42.173315",
     "exception": false,
     "start_time": "2023-05-12T10:38:42.150025",
     "status": "completed"
    },
    "tags": []
   },
   "source": [
    "# Question 2"
   ]
  },
  {
   "cell_type": "markdown",
   "id": "3ebda5f9",
   "metadata": {
    "papermill": {
     "duration": 0.023436,
     "end_time": "2023-05-12T10:38:42.220478",
     "exception": false,
     "start_time": "2023-05-12T10:38:42.197042",
     "status": "completed"
    },
    "tags": []
   },
   "source": [
    "# Bag of Words "
   ]
  },
  {
   "cell_type": "code",
   "execution_count": 18,
   "id": "dbf3f8e8",
   "metadata": {
    "execution": {
     "iopub.execute_input": "2023-05-12T10:38:42.269687Z",
     "iopub.status.busy": "2023-05-12T10:38:42.269245Z",
     "iopub.status.idle": "2023-05-12T10:38:42.281742Z",
     "shell.execute_reply": "2023-05-12T10:38:42.280488Z"
    },
    "papermill": {
     "duration": 0.040145,
     "end_time": "2023-05-12T10:38:42.284273",
     "exception": false,
     "start_time": "2023-05-12T10:38:42.244128",
     "status": "completed"
    },
    "tags": []
   },
   "outputs": [],
   "source": [
    "# split the data into training and testing  \n",
    "train, test = train_test_split(ens_learn, test_size=0.3, random_state=15)"
   ]
  },
  {
   "cell_type": "code",
   "execution_count": 19,
   "id": "82b294a0",
   "metadata": {
    "execution": {
     "iopub.execute_input": "2023-05-12T10:38:42.335277Z",
     "iopub.status.busy": "2023-05-12T10:38:42.333890Z",
     "iopub.status.idle": "2023-05-12T10:38:42.648242Z",
     "shell.execute_reply": "2023-05-12T10:38:42.646786Z"
    },
    "papermill": {
     "duration": 0.342805,
     "end_time": "2023-05-12T10:38:42.651046",
     "exception": false,
     "start_time": "2023-05-12T10:38:42.308241",
     "status": "completed"
    },
    "tags": []
   },
   "outputs": [],
   "source": [
    "# Build the BOW model using Tokenizer\n",
    "victor = Tokenizer()\n",
    "victor.fit_on_texts(train.stemming)"
   ]
  },
  {
   "cell_type": "code",
   "execution_count": 20,
   "id": "4af9d7bd",
   "metadata": {
    "execution": {
     "iopub.execute_input": "2023-05-12T10:38:42.711779Z",
     "iopub.status.busy": "2023-05-12T10:38:42.711223Z",
     "iopub.status.idle": "2023-05-12T10:38:42.730136Z",
     "shell.execute_reply": "2023-05-12T10:38:42.728998Z"
    },
    "papermill": {
     "duration": 0.054439,
     "end_time": "2023-05-12T10:38:42.732860",
     "exception": false,
     "start_time": "2023-05-12T10:38:42.678421",
     "status": "completed"
    },
    "tags": []
   },
   "outputs": [],
   "source": [
    "maxcount = ens_learn['stemming'].apply(lambda x: len(x.split())).max()"
   ]
  },
  {
   "cell_type": "code",
   "execution_count": 21,
   "id": "20127e74",
   "metadata": {
    "execution": {
     "iopub.execute_input": "2023-05-12T10:38:42.788891Z",
     "iopub.status.busy": "2023-05-12T10:38:42.788162Z",
     "iopub.status.idle": "2023-05-12T10:38:42.795084Z",
     "shell.execute_reply": "2023-05-12T10:38:42.793844Z"
    },
    "papermill": {
     "duration": 0.034672,
     "end_time": "2023-05-12T10:38:42.797394",
     "exception": false,
     "start_time": "2023-05-12T10:38:42.762722",
     "status": "completed"
    },
    "tags": []
   },
   "outputs": [
    {
     "data": {
      "text/plain": [
       "24"
      ]
     },
     "execution_count": 21,
     "metadata": {},
     "output_type": "execute_result"
    }
   ],
   "source": [
    "maxcount"
   ]
  },
  {
   "cell_type": "markdown",
   "id": "1d4baecd",
   "metadata": {
    "papermill": {
     "duration": 0.023904,
     "end_time": "2023-05-12T10:38:42.845268",
     "exception": false,
     "start_time": "2023-05-12T10:38:42.821364",
     "status": "completed"
    },
    "tags": []
   },
   "source": [
    "- We will apply our modelling on the stemmed data and later on, we will do CNN and then compare the results."
   ]
  },
  {
   "cell_type": "code",
   "execution_count": 22,
   "id": "769f04bb",
   "metadata": {
    "execution": {
     "iopub.execute_input": "2023-05-12T10:38:42.896375Z",
     "iopub.status.busy": "2023-05-12T10:38:42.895949Z",
     "iopub.status.idle": "2023-05-12T10:38:43.025967Z",
     "shell.execute_reply": "2023-05-12T10:38:43.024781Z"
    },
    "papermill": {
     "duration": 0.158658,
     "end_time": "2023-05-12T10:38:43.028730",
     "exception": false,
     "start_time": "2023-05-12T10:38:42.870072",
     "status": "completed"
    },
    "tags": []
   },
   "outputs": [],
   "source": [
    "# Training set\n",
    "my_train = victor.texts_to_sequences(train.stemming)\n",
    "# Test set\n",
    "my_test = victor.texts_to_sequences(test.stemming)"
   ]
  },
  {
   "cell_type": "code",
   "execution_count": 23,
   "id": "6b54eb75",
   "metadata": {
    "execution": {
     "iopub.execute_input": "2023-05-12T10:38:43.078527Z",
     "iopub.status.busy": "2023-05-12T10:38:43.078098Z",
     "iopub.status.idle": "2023-05-12T10:38:43.111948Z",
     "shell.execute_reply": "2023-05-12T10:38:43.110756Z"
    },
    "papermill": {
     "duration": 0.061833,
     "end_time": "2023-05-12T10:38:43.114658",
     "exception": false,
     "start_time": "2023-05-12T10:38:43.052825",
     "status": "completed"
    },
    "tags": []
   },
   "outputs": [],
   "source": [
    "X_train = pad_sequences(my_train, maxlen=maxcount, padding=\"post\")\n",
    "X_test = pad_sequences(my_test, maxlen=maxcount, padding=\"post\")\n",
    "\n",
    "y_train = train.target.values\n",
    "y_test = test.target.values"
   ]
  },
  {
   "cell_type": "code",
   "execution_count": 24,
   "id": "cdeae428",
   "metadata": {
    "execution": {
     "iopub.execute_input": "2023-05-12T10:38:43.165944Z",
     "iopub.status.busy": "2023-05-12T10:38:43.165199Z",
     "iopub.status.idle": "2023-05-12T10:38:43.171468Z",
     "shell.execute_reply": "2023-05-12T10:38:43.170452Z"
    },
    "papermill": {
     "duration": 0.034188,
     "end_time": "2023-05-12T10:38:43.173619",
     "exception": false,
     "start_time": "2023-05-12T10:38:43.139431",
     "status": "completed"
    },
    "tags": []
   },
   "outputs": [
    {
     "data": {
      "text/plain": [
       "(7000, 24)"
      ]
     },
     "execution_count": 24,
     "metadata": {},
     "output_type": "execute_result"
    }
   ],
   "source": [
    "X_train.shape"
   ]
  },
  {
   "cell_type": "markdown",
   "id": "a0c50ee5",
   "metadata": {
    "papermill": {
     "duration": 0.023764,
     "end_time": "2023-05-12T10:38:43.221927",
     "exception": false,
     "start_time": "2023-05-12T10:38:43.198163",
     "status": "completed"
    },
    "tags": []
   },
   "source": [
    "# Data Modelling"
   ]
  },
  {
   "cell_type": "code",
   "execution_count": 25,
   "id": "250425f7",
   "metadata": {
    "execution": {
     "iopub.execute_input": "2023-05-12T10:38:43.271698Z",
     "iopub.status.busy": "2023-05-12T10:38:43.271225Z",
     "iopub.status.idle": "2023-05-12T10:38:43.281884Z",
     "shell.execute_reply": "2023-05-12T10:38:43.280680Z"
    },
    "papermill": {
     "duration": 0.038252,
     "end_time": "2023-05-12T10:38:43.284235",
     "exception": false,
     "start_time": "2023-05-12T10:38:43.245983",
     "status": "completed"
    },
    "tags": []
   },
   "outputs": [
    {
     "name": "stdout",
     "output_type": "stream",
     "text": [
      "KNeighborsClassifier(n_neighbors=16)\n"
     ]
    }
   ],
   "source": [
    "# Making KNN Model\n",
    "KNN = KNeighborsClassifier(n_neighbors=16).fit(X_train, y_train)\n",
    "print (KNN)"
   ]
  },
  {
   "cell_type": "markdown",
   "id": "f86ce87d",
   "metadata": {
    "papermill": {
     "duration": 0.023685,
     "end_time": "2023-05-12T10:38:43.332387",
     "exception": false,
     "start_time": "2023-05-12T10:38:43.308702",
     "status": "completed"
    },
    "tags": []
   },
   "source": [
    "# 1) KNN  "
   ]
  },
  {
   "cell_type": "code",
   "execution_count": 26,
   "id": "b9b1383b",
   "metadata": {
    "execution": {
     "iopub.execute_input": "2023-05-12T10:38:43.383255Z",
     "iopub.status.busy": "2023-05-12T10:38:43.382813Z",
     "iopub.status.idle": "2023-05-12T10:38:43.996419Z",
     "shell.execute_reply": "2023-05-12T10:38:43.995435Z"
    },
    "papermill": {
     "duration": 0.641778,
     "end_time": "2023-05-12T10:38:43.999240",
     "exception": false,
     "start_time": "2023-05-12T10:38:43.357462",
     "status": "completed"
    },
    "tags": []
   },
   "outputs": [],
   "source": [
    "KNN_predictions = KNN.predict(X_test)"
   ]
  },
  {
   "cell_type": "markdown",
   "id": "3d6e2379",
   "metadata": {
    "papermill": {
     "duration": 0.023579,
     "end_time": "2023-05-12T10:38:44.047534",
     "exception": false,
     "start_time": "2023-05-12T10:38:44.023955",
     "status": "completed"
    },
    "tags": []
   },
   "source": [
    "## Accuracy "
   ]
  },
  {
   "cell_type": "markdown",
   "id": "d6647dc8",
   "metadata": {
    "papermill": {
     "duration": 0.023595,
     "end_time": "2023-05-12T10:38:44.094842",
     "exception": false,
     "start_time": "2023-05-12T10:38:44.071247",
     "status": "completed"
    },
    "tags": []
   },
   "source": [
    "- Following is the accuracy of our KNN model"
   ]
  },
  {
   "cell_type": "code",
   "execution_count": 27,
   "id": "4e0e5a95",
   "metadata": {
    "execution": {
     "iopub.execute_input": "2023-05-12T10:38:44.145103Z",
     "iopub.status.busy": "2023-05-12T10:38:44.143993Z",
     "iopub.status.idle": "2023-05-12T10:38:44.740823Z",
     "shell.execute_reply": "2023-05-12T10:38:44.739717Z"
    },
    "papermill": {
     "duration": 0.624397,
     "end_time": "2023-05-12T10:38:44.743240",
     "exception": false,
     "start_time": "2023-05-12T10:38:44.118843",
     "status": "completed"
    },
    "tags": []
   },
   "outputs": [
    {
     "data": {
      "text/plain": [
       "0.5006666666666667"
      ]
     },
     "execution_count": 27,
     "metadata": {},
     "output_type": "execute_result"
    }
   ],
   "source": [
    "# Checking the accuracy\n",
    "KNN.score(X_test,y_test)"
   ]
  },
  {
   "cell_type": "markdown",
   "id": "c46e7c90",
   "metadata": {
    "papermill": {
     "duration": 0.024202,
     "end_time": "2023-05-12T10:38:44.792307",
     "exception": false,
     "start_time": "2023-05-12T10:38:44.768105",
     "status": "completed"
    },
    "tags": []
   },
   "source": [
    "## Classification Report "
   ]
  },
  {
   "cell_type": "code",
   "execution_count": 28,
   "id": "631e0e98",
   "metadata": {
    "execution": {
     "iopub.execute_input": "2023-05-12T10:38:44.843898Z",
     "iopub.status.busy": "2023-05-12T10:38:44.843147Z",
     "iopub.status.idle": "2023-05-12T10:38:44.858110Z",
     "shell.execute_reply": "2023-05-12T10:38:44.856792Z"
    },
    "papermill": {
     "duration": 0.043555,
     "end_time": "2023-05-12T10:38:44.860653",
     "exception": false,
     "start_time": "2023-05-12T10:38:44.817098",
     "status": "completed"
    },
    "tags": []
   },
   "outputs": [
    {
     "name": "stdout",
     "output_type": "stream",
     "text": [
      "              precision    recall  f1-score   support\n",
      "\n",
      "           0       0.50      0.62      0.55      1489\n",
      "           4       0.51      0.38      0.43      1511\n",
      "\n",
      "    accuracy                           0.50      3000\n",
      "   macro avg       0.50      0.50      0.49      3000\n",
      "weighted avg       0.50      0.50      0.49      3000\n",
      "\n"
     ]
    }
   ],
   "source": [
    "print(classification_report(y_test,KNN_predictions))"
   ]
  },
  {
   "cell_type": "markdown",
   "id": "d121c17e",
   "metadata": {
    "papermill": {
     "duration": 0.02366,
     "end_time": "2023-05-12T10:38:44.908440",
     "exception": false,
     "start_time": "2023-05-12T10:38:44.884780",
     "status": "completed"
    },
    "tags": []
   },
   "source": [
    "## Confusion Matrix "
   ]
  },
  {
   "cell_type": "code",
   "execution_count": 29,
   "id": "e2650562",
   "metadata": {
    "execution": {
     "iopub.execute_input": "2023-05-12T10:38:44.959306Z",
     "iopub.status.busy": "2023-05-12T10:38:44.958502Z",
     "iopub.status.idle": "2023-05-12T10:38:45.215813Z",
     "shell.execute_reply": "2023-05-12T10:38:45.214850Z"
    },
    "papermill": {
     "duration": 0.285176,
     "end_time": "2023-05-12T10:38:45.218265",
     "exception": false,
     "start_time": "2023-05-12T10:38:44.933089",
     "status": "completed"
    },
    "tags": []
   },
   "outputs": [
    {
     "data": {
      "image/png": "[encoded data removed]",
      "text/plain": [
       "<Figure size 864x504 with 2 Axes>"
      ]
     },
     "metadata": {
      "needs_background": "light"
     },
     "output_type": "display_data"
    }
   ],
   "source": [
    "# Confusion Matrix\n",
    "cm_KNN = confusion_matrix(y_test,KNN_predictions)\n",
    "\n",
    "# plot confusion matrix \n",
    "plt.figure(figsize=(12,7))\n",
    "sentiment_classes = ['Negative', 'Positive']\n",
    "sb.heatmap(cm_KNN, cmap=plt.cm.Greens, annot=True,cbar_kws={'label': 'Count of Tweets'},  fmt='d',  \n",
    "            xticklabels=sentiment_classes,\n",
    "            yticklabels=sentiment_classes)\n",
    "plt.xlabel('Predicted', fontsize=15)\n",
    "plt.ylabel('Truth', fontsize=15)\n",
    "plt.title('Confusion matrix', fontsize=20)\n",
    "plt.show()"
   ]
  },
  {
   "cell_type": "markdown",
   "id": "9adc4ce5",
   "metadata": {
    "papermill": {
     "duration": 0.024825,
     "end_time": "2023-05-12T10:38:45.267747",
     "exception": false,
     "start_time": "2023-05-12T10:38:45.242922",
     "status": "completed"
    },
    "tags": []
   },
   "source": [
    "- This is the confusion matrix for our KNN Model"
   ]
  },
  {
   "cell_type": "markdown",
   "id": "f1f228bc",
   "metadata": {
    "papermill": {
     "duration": 0.024218,
     "end_time": "2023-05-12T10:38:45.316480",
     "exception": false,
     "start_time": "2023-05-12T10:38:45.292262",
     "status": "completed"
    },
    "tags": []
   },
   "source": [
    "# 2)  Decision Tree"
   ]
  },
  {
   "cell_type": "code",
   "execution_count": 30,
   "id": "ac999eeb",
   "metadata": {
    "execution": {
     "iopub.execute_input": "2023-05-12T10:38:45.368204Z",
     "iopub.status.busy": "2023-05-12T10:38:45.367816Z",
     "iopub.status.idle": "2023-05-12T10:38:45.404200Z",
     "shell.execute_reply": "2023-05-12T10:38:45.403151Z"
    },
    "papermill": {
     "duration": 0.065901,
     "end_time": "2023-05-12T10:38:45.407214",
     "exception": false,
     "start_time": "2023-05-12T10:38:45.341313",
     "status": "completed"
    },
    "tags": []
   },
   "outputs": [],
   "source": [
    "# Making Decision Tree Model\n",
    "Dec_Tree = DecisionTreeClassifier(\n",
    "    criterion='entropy', max_depth=4).fit(X_train, y_train)"
   ]
  },
  {
   "cell_type": "code",
   "execution_count": 31,
   "id": "097e4f70",
   "metadata": {
    "execution": {
     "iopub.execute_input": "2023-05-12T10:38:45.459751Z",
     "iopub.status.busy": "2023-05-12T10:38:45.459310Z",
     "iopub.status.idle": "2023-05-12T10:38:45.465321Z",
     "shell.execute_reply": "2023-05-12T10:38:45.464322Z"
    },
    "papermill": {
     "duration": 0.034338,
     "end_time": "2023-05-12T10:38:45.467373",
     "exception": false,
     "start_time": "2023-05-12T10:38:45.433035",
     "status": "completed"
    },
    "tags": []
   },
   "outputs": [],
   "source": [
    "Dec_Tree_predictions = Dec_Tree.predict(X_test)"
   ]
  },
  {
   "cell_type": "markdown",
   "id": "59e6a122",
   "metadata": {
    "papermill": {
     "duration": 0.025348,
     "end_time": "2023-05-12T10:38:45.518594",
     "exception": false,
     "start_time": "2023-05-12T10:38:45.493246",
     "status": "completed"
    },
    "tags": []
   },
   "source": [
    "## Accuracy "
   ]
  },
  {
   "cell_type": "markdown",
   "id": "2c81ba25",
   "metadata": {
    "papermill": {
     "duration": 0.024348,
     "end_time": "2023-05-12T10:38:45.567989",
     "exception": false,
     "start_time": "2023-05-12T10:38:45.543641",
     "status": "completed"
    },
    "tags": []
   },
   "source": [
    "- Below is the accuracy for our Decision Tree Model"
   ]
  },
  {
   "cell_type": "code",
   "execution_count": 32,
   "id": "1e90e7bf",
   "metadata": {
    "execution": {
     "iopub.execute_input": "2023-05-12T10:38:45.620518Z",
     "iopub.status.busy": "2023-05-12T10:38:45.619617Z",
     "iopub.status.idle": "2023-05-12T10:38:45.631072Z",
     "shell.execute_reply": "2023-05-12T10:38:45.629502Z"
    },
    "papermill": {
     "duration": 0.043015,
     "end_time": "2023-05-12T10:38:45.636119",
     "exception": false,
     "start_time": "2023-05-12T10:38:45.593104",
     "status": "completed"
    },
    "tags": []
   },
   "outputs": [
    {
     "data": {
      "text/plain": [
       "0.5136666666666667"
      ]
     },
     "execution_count": 32,
     "metadata": {},
     "output_type": "execute_result"
    }
   ],
   "source": [
    "# Checking the accuracy\n",
    "Dec_Tree.score(X_test,y_test)"
   ]
  },
  {
   "cell_type": "markdown",
   "id": "96cedb5e",
   "metadata": {
    "papermill": {
     "duration": 0.024534,
     "end_time": "2023-05-12T10:38:45.692174",
     "exception": false,
     "start_time": "2023-05-12T10:38:45.667640",
     "status": "completed"
    },
    "tags": []
   },
   "source": [
    "## Classification Report "
   ]
  },
  {
   "cell_type": "code",
   "execution_count": 33,
   "id": "8f6a957f",
   "metadata": {
    "execution": {
     "iopub.execute_input": "2023-05-12T10:38:45.760117Z",
     "iopub.status.busy": "2023-05-12T10:38:45.759667Z",
     "iopub.status.idle": "2023-05-12T10:38:45.775044Z",
     "shell.execute_reply": "2023-05-12T10:38:45.773727Z"
    },
    "papermill": {
     "duration": 0.055248,
     "end_time": "2023-05-12T10:38:45.777884",
     "exception": false,
     "start_time": "2023-05-12T10:38:45.722636",
     "status": "completed"
    },
    "tags": []
   },
   "outputs": [
    {
     "name": "stdout",
     "output_type": "stream",
     "text": [
      "              precision    recall  f1-score   support\n",
      "\n",
      "           0       0.51      0.70      0.59      1489\n",
      "           4       0.53      0.33      0.41      1511\n",
      "\n",
      "    accuracy                           0.51      3000\n",
      "   macro avg       0.52      0.52      0.50      3000\n",
      "weighted avg       0.52      0.51      0.50      3000\n",
      "\n"
     ]
    }
   ],
   "source": [
    "print(classification_report(y_test,Dec_Tree_predictions))"
   ]
  },
  {
   "cell_type": "markdown",
   "id": "882c8603",
   "metadata": {
    "papermill": {
     "duration": 0.025994,
     "end_time": "2023-05-12T10:38:45.833128",
     "exception": false,
     "start_time": "2023-05-12T10:38:45.807134",
     "status": "completed"
    },
    "tags": []
   },
   "source": [
    "## Confusion Matrix "
   ]
  },
  {
   "cell_type": "code",
   "execution_count": 34,
   "id": "4ae5780f",
   "metadata": {
    "execution": {
     "iopub.execute_input": "2023-05-12T10:38:45.889781Z",
     "iopub.status.busy": "2023-05-12T10:38:45.888536Z",
     "iopub.status.idle": "2023-05-12T10:38:46.145111Z",
     "shell.execute_reply": "2023-05-12T10:38:46.143918Z"
    },
    "papermill": {
     "duration": 0.28555,
     "end_time": "2023-05-12T10:38:46.147506",
     "exception": false,
     "start_time": "2023-05-12T10:38:45.861956",
     "status": "completed"
    },
    "tags": []
   },
   "outputs": [
    {
     "data": {
      "image/png": "[encoded data removed]",
      "text/plain": [
       "<Figure size 864x504 with 2 Axes>"
      ]
     },
     "metadata": {
      "needs_background": "light"
     },
     "output_type": "display_data"
    }
   ],
   "source": [
    "# Confusion Matrix\n",
    "cm_Dec_Tree = confusion_matrix(y_test,Dec_Tree_predictions)\n",
    "\n",
    "# plot confusion matrix \n",
    "plt.figure(figsize=(12,7))\n",
    "sentiment_classes = ['Negative', 'Positive']\n",
    "sb.heatmap(cm_Dec_Tree, cmap=plt.cm.Greens, annot=True,cbar_kws={'label': 'Counts of Tweets'},  fmt='d',  \n",
    "            xticklabels=sentiment_classes,\n",
    "            yticklabels=sentiment_classes)\n",
    "plt.xlabel('Predicted', fontsize=15)\n",
    "plt.ylabel('Truth', fontsize=15)\n",
    "plt.title('Confusion matrix', fontsize=20)\n",
    "plt.show()"
   ]
  },
  {
   "cell_type": "markdown",
   "id": "19408109",
   "metadata": {
    "papermill": {
     "duration": 0.024845,
     "end_time": "2023-05-12T10:38:46.197857",
     "exception": false,
     "start_time": "2023-05-12T10:38:46.173012",
     "status": "completed"
    },
    "tags": []
   },
   "source": [
    "- This is the confusion matrix for our Decision Tree Model"
   ]
  },
  {
   "cell_type": "markdown",
   "id": "aaa4541e",
   "metadata": {
    "papermill": {
     "duration": 0.025433,
     "end_time": "2023-05-12T10:38:46.248705",
     "exception": false,
     "start_time": "2023-05-12T10:38:46.223272",
     "status": "completed"
    },
    "tags": []
   },
   "source": [
    "# 3) SVM "
   ]
  },
  {
   "cell_type": "code",
   "execution_count": 35,
   "id": "c53d25f7",
   "metadata": {
    "execution": {
     "iopub.execute_input": "2023-05-12T10:38:46.301459Z",
     "iopub.status.busy": "2023-05-12T10:38:46.300814Z",
     "iopub.status.idle": "2023-05-12T10:38:49.759347Z",
     "shell.execute_reply": "2023-05-12T10:38:49.758421Z"
    },
    "papermill": {
     "duration": 3.48792,
     "end_time": "2023-05-12T10:38:49.762008",
     "exception": false,
     "start_time": "2023-05-12T10:38:46.274088",
     "status": "completed"
    },
    "tags": []
   },
   "outputs": [],
   "source": [
    "# Building the SVM Model\n",
    "SVM = svm.SVC(kernel='rbf').fit(X_train, (y_train))"
   ]
  },
  {
   "cell_type": "code",
   "execution_count": 36,
   "id": "af6bae5b",
   "metadata": {
    "execution": {
     "iopub.execute_input": "2023-05-12T10:38:49.814313Z",
     "iopub.status.busy": "2023-05-12T10:38:49.813663Z",
     "iopub.status.idle": "2023-05-12T10:38:51.327081Z",
     "shell.execute_reply": "2023-05-12T10:38:51.325914Z"
    },
    "papermill": {
     "duration": 1.542837,
     "end_time": "2023-05-12T10:38:51.329912",
     "exception": false,
     "start_time": "2023-05-12T10:38:49.787075",
     "status": "completed"
    },
    "tags": []
   },
   "outputs": [],
   "source": [
    "SVM_predictions = SVM.predict(X_test)"
   ]
  },
  {
   "cell_type": "markdown",
   "id": "5c0d7ddb",
   "metadata": {
    "papermill": {
     "duration": 0.02583,
     "end_time": "2023-05-12T10:38:51.381993",
     "exception": false,
     "start_time": "2023-05-12T10:38:51.356163",
     "status": "completed"
    },
    "tags": []
   },
   "source": [
    "## Accuracy "
   ]
  },
  {
   "cell_type": "markdown",
   "id": "b965bce5",
   "metadata": {
    "papermill": {
     "duration": 0.025188,
     "end_time": "2023-05-12T10:38:51.432588",
     "exception": false,
     "start_time": "2023-05-12T10:38:51.407400",
     "status": "completed"
    },
    "tags": []
   },
   "source": [
    "- Following is the accuracy of our SVM Model. SVM models takes the longest time among all for the training and the outcomes."
   ]
  },
  {
   "cell_type": "code",
   "execution_count": 37,
   "id": "c3654ed6",
   "metadata": {
    "execution": {
     "iopub.execute_input": "2023-05-12T10:38:51.483921Z",
     "iopub.status.busy": "2023-05-12T10:38:51.483481Z",
     "iopub.status.idle": "2023-05-12T10:38:53.000931Z",
     "shell.execute_reply": "2023-05-12T10:38:52.999644Z"
    },
    "papermill": {
     "duration": 1.546029,
     "end_time": "2023-05-12T10:38:53.003603",
     "exception": false,
     "start_time": "2023-05-12T10:38:51.457574",
     "status": "completed"
    },
    "tags": []
   },
   "outputs": [
    {
     "data": {
      "text/plain": [
       "0.5146666666666667"
      ]
     },
     "execution_count": 37,
     "metadata": {},
     "output_type": "execute_result"
    }
   ],
   "source": [
    "SVM.score(X_test,y_test)"
   ]
  },
  {
   "cell_type": "markdown",
   "id": "089d5963",
   "metadata": {
    "papermill": {
     "duration": 0.024789,
     "end_time": "2023-05-12T10:38:53.054161",
     "exception": false,
     "start_time": "2023-05-12T10:38:53.029372",
     "status": "completed"
    },
    "tags": []
   },
   "source": [
    "## Classification Report "
   ]
  },
  {
   "cell_type": "code",
   "execution_count": 38,
   "id": "263a263c",
   "metadata": {
    "execution": {
     "iopub.execute_input": "2023-05-12T10:38:53.106337Z",
     "iopub.status.busy": "2023-05-12T10:38:53.105945Z",
     "iopub.status.idle": "2023-05-12T10:38:53.120535Z",
     "shell.execute_reply": "2023-05-12T10:38:53.119236Z"
    },
    "papermill": {
     "duration": 0.043764,
     "end_time": "2023-05-12T10:38:53.122991",
     "exception": false,
     "start_time": "2023-05-12T10:38:53.079227",
     "status": "completed"
    },
    "tags": []
   },
   "outputs": [
    {
     "name": "stdout",
     "output_type": "stream",
     "text": [
      "              precision    recall  f1-score   support\n",
      "\n",
      "           0       0.51      0.85      0.63      1489\n",
      "           4       0.55      0.19      0.28      1511\n",
      "\n",
      "    accuracy                           0.51      3000\n",
      "   macro avg       0.53      0.52      0.46      3000\n",
      "weighted avg       0.53      0.51      0.46      3000\n",
      "\n"
     ]
    }
   ],
   "source": [
    "print(classification_report(y_test,SVM_predictions))"
   ]
  },
  {
   "cell_type": "markdown",
   "id": "0aa7c4f4",
   "metadata": {
    "papermill": {
     "duration": 0.024823,
     "end_time": "2023-05-12T10:38:53.173309",
     "exception": false,
     "start_time": "2023-05-12T10:38:53.148486",
     "status": "completed"
    },
    "tags": []
   },
   "source": [
    "## Confusion Matrix"
   ]
  },
  {
   "cell_type": "code",
   "execution_count": 39,
   "id": "93204f73",
   "metadata": {
    "execution": {
     "iopub.execute_input": "2023-05-12T10:38:53.225870Z",
     "iopub.status.busy": "2023-05-12T10:38:53.225171Z",
     "iopub.status.idle": "2023-05-12T10:38:53.464214Z",
     "shell.execute_reply": "2023-05-12T10:38:53.463400Z"
    },
    "papermill": {
     "duration": 0.26779,
     "end_time": "2023-05-12T10:38:53.466426",
     "exception": false,
     "start_time": "2023-05-12T10:38:53.198636",
     "status": "completed"
    },
    "tags": []
   },
   "outputs": [
    {
     "data": {
      "image/png": "[encoded data removed]",
      "text/plain": [
       "<Figure size 864x504 with 2 Axes>"
      ]
     },
     "metadata": {
      "needs_background": "light"
     },
     "output_type": "display_data"
    }
   ],
   "source": [
    "cm_svm = confusion_matrix(y_test,SVM_predictions)\n",
    "\n",
    "# plot confusion matrix \n",
    "plt.figure(figsize=(12,7))\n",
    "sentiment_classes = ['Negative', 'Positive']\n",
    "sb.heatmap(cm_svm, cmap=plt.cm.Greens, annot=True,cbar_kws={'label': 'Count of Tweets'},  fmt='d',  \n",
    "            xticklabels=sentiment_classes,\n",
    "            yticklabels=sentiment_classes)\n",
    "plt.xlabel('Predicted', fontsize=15)\n",
    "plt.ylabel('Truth', fontsize=15)\n",
    "plt.title('Confusion matrix', fontsize=20)\n",
    "plt.show()"
   ]
  },
  {
   "cell_type": "markdown",
   "id": "927e5b41",
   "metadata": {
    "papermill": {
     "duration": 0.025509,
     "end_time": "2023-05-12T10:38:53.518187",
     "exception": false,
     "start_time": "2023-05-12T10:38:53.492678",
     "status": "completed"
    },
    "tags": []
   },
   "source": [
    "# Word2Vec "
   ]
  },
  {
   "cell_type": "markdown",
   "id": "6616f43c",
   "metadata": {
    "papermill": {
     "duration": 0.026228,
     "end_time": "2023-05-12T10:38:53.571537",
     "exception": false,
     "start_time": "2023-05-12T10:38:53.545309",
     "status": "completed"
    },
    "tags": []
   },
   "source": [
    "- Now we will use Word2Vec and then make the CNN model"
   ]
  },
  {
   "cell_type": "code",
   "execution_count": 40,
   "id": "08d9c066",
   "metadata": {
    "execution": {
     "iopub.execute_input": "2023-05-12T10:38:53.626765Z",
     "iopub.status.busy": "2023-05-12T10:38:53.626097Z",
     "iopub.status.idle": "2023-05-12T10:38:53.915979Z",
     "shell.execute_reply": "2023-05-12T10:38:53.914841Z"
    },
    "papermill": {
     "duration": 0.32052,
     "end_time": "2023-05-12T10:38:53.918680",
     "exception": false,
     "start_time": "2023-05-12T10:38:53.598160",
     "status": "completed"
    },
    "tags": []
   },
   "outputs": [],
   "source": [
    "from gensim.models import Word2Vec"
   ]
  },
  {
   "cell_type": "code",
   "execution_count": 41,
   "id": "885a6f1d",
   "metadata": {
    "execution": {
     "iopub.execute_input": "2023-05-12T10:38:53.974440Z",
     "iopub.status.busy": "2023-05-12T10:38:53.974038Z",
     "iopub.status.idle": "2023-05-12T10:38:54.494979Z",
     "shell.execute_reply": "2023-05-12T10:38:54.493754Z"
    },
    "papermill": {
     "duration": 0.552074,
     "end_time": "2023-05-12T10:38:54.497760",
     "exception": false,
     "start_time": "2023-05-12T10:38:53.945686",
     "status": "completed"
    },
    "tags": []
   },
   "outputs": [],
   "source": [
    "texts_w2v = ens_learn.stemming.apply(tokenize).to_list()\n",
    "\n",
    "w2v = Word2Vec(sentences = texts_w2v, window = 3,\n",
    "               vector_size = X_train.shape[1], min_count = 5, workers = 4, sg = 1)"
   ]
  },
  {
   "cell_type": "code",
   "execution_count": 42,
   "id": "818701cc",
   "metadata": {
    "execution": {
     "iopub.execute_input": "2023-05-12T10:38:54.552105Z",
     "iopub.status.busy": "2023-05-12T10:38:54.551332Z",
     "iopub.status.idle": "2023-05-12T10:38:54.557867Z",
     "shell.execute_reply": "2023-05-12T10:38:54.556793Z"
    },
    "papermill": {
     "duration": 0.036088,
     "end_time": "2023-05-12T10:38:54.560111",
     "exception": false,
     "start_time": "2023-05-12T10:38:54.524023",
     "status": "completed"
    },
    "tags": []
   },
   "outputs": [
    {
     "data": {
      "text/plain": [
       "<gensim.models.word2vec.Word2Vec at 0x7a9863f1bcd0>"
      ]
     },
     "execution_count": 42,
     "metadata": {},
     "output_type": "execute_result"
    }
   ],
   "source": [
    "w2v"
   ]
  },
  {
   "cell_type": "markdown",
   "id": "683a8507",
   "metadata": {
    "papermill": {
     "duration": 0.026011,
     "end_time": "2023-05-12T10:38:54.612111",
     "exception": false,
     "start_time": "2023-05-12T10:38:54.586100",
     "status": "completed"
    },
    "tags": []
   },
   "source": [
    "- Now we would decode our 0 as Ngative tweets, 2 as neutral and 4 as the positive ones and store them in the decode_sentiment function"
   ]
  },
  {
   "cell_type": "code",
   "execution_count": 43,
   "id": "5e2f26be",
   "metadata": {
    "execution": {
     "iopub.execute_input": "2023-05-12T10:38:54.667594Z",
     "iopub.status.busy": "2023-05-12T10:38:54.666769Z",
     "iopub.status.idle": "2023-05-12T10:38:54.672363Z",
     "shell.execute_reply": "2023-05-12T10:38:54.671344Z"
    },
    "papermill": {
     "duration": 0.035476,
     "end_time": "2023-05-12T10:38:54.674534",
     "exception": false,
     "start_time": "2023-05-12T10:38:54.639058",
     "status": "completed"
    },
    "tags": []
   },
   "outputs": [],
   "source": [
    "decode = {0: \"Negative\", 2: \"Neutral\", 4: \"Positive\"}\n",
    "def decode_sentiments(label):\n",
    "    return decode[int(label)]"
   ]
  },
  {
   "cell_type": "code",
   "execution_count": 44,
   "id": "617e0d36",
   "metadata": {
    "execution": {
     "iopub.execute_input": "2023-05-12T10:38:54.728416Z",
     "iopub.status.busy": "2023-05-12T10:38:54.727993Z",
     "iopub.status.idle": "2023-05-12T10:38:54.740003Z",
     "shell.execute_reply": "2023-05-12T10:38:54.738903Z"
    },
    "papermill": {
     "duration": 0.041749,
     "end_time": "2023-05-12T10:38:54.742363",
     "exception": false,
     "start_time": "2023-05-12T10:38:54.700614",
     "status": "completed"
    },
    "tags": []
   },
   "outputs": [
    {
     "data": {
      "text/plain": [
       "883622     Positive\n",
       "1515781    Positive\n",
       "591606     Negative\n",
       "437915     Negative\n",
       "658638     Negative\n",
       "             ...   \n",
       "318326     Negative\n",
       "459683     Negative\n",
       "1590800    Positive\n",
       "1214032    Positive\n",
       "912756     Positive\n",
       "Name: target, Length: 7000, dtype: object"
      ]
     },
     "execution_count": 44,
     "metadata": {},
     "output_type": "execute_result"
    }
   ],
   "source": [
    "train.target.apply(lambda x: decode_sentiments(x))"
   ]
  },
  {
   "cell_type": "code",
   "execution_count": 45,
   "id": "c276b0a3",
   "metadata": {
    "execution": {
     "iopub.execute_input": "2023-05-12T10:38:54.796649Z",
     "iopub.status.busy": "2023-05-12T10:38:54.796237Z",
     "iopub.status.idle": "2023-05-12T10:38:54.801486Z",
     "shell.execute_reply": "2023-05-12T10:38:54.800619Z"
    },
    "papermill": {
     "duration": 0.034765,
     "end_time": "2023-05-12T10:38:54.803452",
     "exception": false,
     "start_time": "2023-05-12T10:38:54.768687",
     "status": "completed"
    },
    "tags": []
   },
   "outputs": [],
   "source": [
    "labels = train.target.unique().tolist()\n",
    "labels.append('Neutral')"
   ]
  },
  {
   "cell_type": "markdown",
   "id": "e70296a9",
   "metadata": {
    "papermill": {
     "duration": 0.025637,
     "end_time": "2023-05-12T10:38:54.855303",
     "exception": false,
     "start_time": "2023-05-12T10:38:54.829666",
     "status": "completed"
    },
    "tags": []
   },
   "source": [
    "- First, a LabelEncoder object is created and fit on the target column of the train data. This is a preprocessing step that converts the labels in the target column into integer values. For example, if the target column contains the labels 'cat', 'dog', and 'bird', the LabelEncoder will convert these labels into the integers 0, 1, and 2, respectively.\n",
    "\n",
    "- Next, the LabelEncoder is fit on the target column of the test data. This allows the encoder to learn the mapping between the labels and integer values for the test data as well.\n",
    "\n",
    "- Then, the transform method is used to apply the label encoding to the target columns of both the train and test data. The resulting integer arrays are stored in the variables y_train and y_test, respectively.\n",
    "\n",
    "- Finally, the reshape method is used to reshape the y_train and y_test arrays into a column vector shape with a single column and as many rows as needed. The -1 value for the number of rows tells NumPy to infer the number of rows based on the length of the data and the number of columns."
   ]
  },
  {
   "cell_type": "code",
   "execution_count": 46,
   "id": "cd79496c",
   "metadata": {
    "execution": {
     "iopub.execute_input": "2023-05-12T10:38:54.909411Z",
     "iopub.status.busy": "2023-05-12T10:38:54.908280Z",
     "iopub.status.idle": "2023-05-12T10:38:54.920216Z",
     "shell.execute_reply": "2023-05-12T10:38:54.918599Z"
    },
    "papermill": {
     "duration": 0.041346,
     "end_time": "2023-05-12T10:38:54.922483",
     "exception": false,
     "start_time": "2023-05-12T10:38:54.881137",
     "status": "completed"
    },
    "tags": []
   },
   "outputs": [
    {
     "name": "stdout",
     "output_type": "stream",
     "text": [
      "y_train (7000, 1)\n",
      "y_test (3000, 1)\n"
     ]
    }
   ],
   "source": [
    "\n",
    "encode = LabelEncoder()\n",
    "encode.fit(train.target.tolist())\n",
    "encode.fit(test.target.tolist())\n",
    "\n",
    "y_train = encode.transform(train.target.tolist())\n",
    "y_test = encode.transform(test.target.tolist())\n",
    "\n",
    "y_train = y_train.reshape(-1,1)\n",
    "y_test = y_test.reshape(-1,1)\n",
    "\n",
    "print(\"y_train\",y_train.shape)\n",
    "print(\"y_test\",y_test.shape)"
   ]
  },
  {
   "cell_type": "markdown",
   "id": "05d292f9",
   "metadata": {
    "papermill": {
     "duration": 0.025684,
     "end_time": "2023-05-12T10:38:54.974277",
     "exception": false,
     "start_time": "2023-05-12T10:38:54.948593",
     "status": "completed"
    },
    "tags": []
   },
   "source": [
    "- After below code has been run, the embed array should contain the embedding vectors for the words in the vocabulary, with one row per word and one column per feature in the embedding space. The embed array can then be used as input to a machine learning model to capture the semantic meaning of the words in a text."
   ]
  },
  {
   "cell_type": "code",
   "execution_count": 47,
   "id": "609db27d",
   "metadata": {
    "execution": {
     "iopub.execute_input": "2023-05-12T10:38:55.028395Z",
     "iopub.status.busy": "2023-05-12T10:38:55.027977Z",
     "iopub.status.idle": "2023-05-12T10:38:55.048703Z",
     "shell.execute_reply": "2023-05-12T10:38:55.047696Z"
    },
    "papermill": {
     "duration": 0.050426,
     "end_time": "2023-05-12T10:38:55.051049",
     "exception": false,
     "start_time": "2023-05-12T10:38:55.000623",
     "status": "completed"
    },
    "tags": []
   },
   "outputs": [
    {
     "name": "stdout",
     "output_type": "stream",
     "text": [
      "(8474, 24)\n"
     ]
    }
   ],
   "source": [
    "max_length = len(victor.word_index)+1\n",
    "embed = np.zeros((max_length, X_train.shape[1]))\n",
    "for word, i in victor.word_index.items():\n",
    "  if word in w2v.wv:\n",
    "    embed[i] = w2v.wv[word]\n",
    "print(embed.shape)"
   ]
  },
  {
   "cell_type": "markdown",
   "id": "ef3681b1",
   "metadata": {
    "papermill": {
     "duration": 0.025727,
     "end_time": "2023-05-12T10:38:55.103243",
     "exception": false,
     "start_time": "2023-05-12T10:38:55.077516",
     "status": "completed"
    },
    "tags": []
   },
   "source": [
    "# CNN Model "
   ]
  },
  {
   "cell_type": "code",
   "execution_count": 48,
   "id": "b807bd2e",
   "metadata": {
    "execution": {
     "iopub.execute_input": "2023-05-12T10:38:55.157741Z",
     "iopub.status.busy": "2023-05-12T10:38:55.157328Z",
     "iopub.status.idle": "2023-05-12T10:38:55.456759Z",
     "shell.execute_reply": "2023-05-12T10:38:55.455321Z"
    },
    "papermill": {
     "duration": 0.329749,
     "end_time": "2023-05-12T10:38:55.459152",
     "exception": false,
     "start_time": "2023-05-12T10:38:55.129403",
     "status": "completed"
    },
    "tags": []
   },
   "outputs": [
    {
     "name": "stdout",
     "output_type": "stream",
     "text": [
      "Model: \"sequential\"\n",
      "_________________________________________________________________\n",
      "Layer (type)                 Output Shape              Param #   \n",
      "=================================================================\n",
      "embedding (Embedding)        (None, 24, 24)            203376    \n",
      "_________________________________________________________________\n",
      "dropout (Dropout)            (None, 24, 24)            0         \n",
      "_________________________________________________________________\n",
      "lstm (LSTM)                  (None, 100)               50000     \n",
      "_________________________________________________________________\n",
      "dense (Dense)                (None, 1)                 101       \n",
      "=================================================================\n",
      "Total params: 253,477\n",
      "Trainable params: 50,101\n",
      "Non-trainable params: 203,376\n",
      "_________________________________________________________________\n"
     ]
    }
   ],
   "source": [
    "cnn= models.Sequential()\n",
    "cnn.add(Embedding(max_length, X_train.shape[1], \n",
    "                        weights= [embed], input_length= X_train.shape[1], trainable= False))\n",
    "cnn.add(Dropout(0.5))\n",
    "cnn.add(LSTM(100, dropout=0.2, recurrent_dropout=0.2))\n",
    "cnn.add(Dense(1, activation='sigmoid'))\n",
    "cnn.summary()"
   ]
  },
  {
   "cell_type": "code",
   "execution_count": 49,
   "id": "9e7cd5e2",
   "metadata": {
    "execution": {
     "iopub.execute_input": "2023-05-12T10:38:55.515517Z",
     "iopub.status.busy": "2023-05-12T10:38:55.514447Z",
     "iopub.status.idle": "2023-05-12T10:38:55.530335Z",
     "shell.execute_reply": "2023-05-12T10:38:55.529299Z"
    },
    "papermill": {
     "duration": 0.046517,
     "end_time": "2023-05-12T10:38:55.532941",
     "exception": false,
     "start_time": "2023-05-12T10:38:55.486424",
     "status": "completed"
    },
    "tags": []
   },
   "outputs": [],
   "source": [
    "cnn.compile(loss='binary_crossentropy', optimizer=\"adam\", metrics=['accuracy'])"
   ]
  },
  {
   "cell_type": "code",
   "execution_count": 50,
   "id": "408601f5",
   "metadata": {
    "execution": {
     "iopub.execute_input": "2023-05-12T10:38:55.587724Z",
     "iopub.status.busy": "2023-05-12T10:38:55.587058Z",
     "iopub.status.idle": "2023-05-12T10:38:55.591857Z",
     "shell.execute_reply": "2023-05-12T10:38:55.590889Z"
    },
    "papermill": {
     "duration": 0.034655,
     "end_time": "2023-05-12T10:38:55.593949",
     "exception": false,
     "start_time": "2023-05-12T10:38:55.559294",
     "status": "completed"
    },
    "tags": []
   },
   "outputs": [],
   "source": [
    "remember = [ReduceLROnPlateau(monitor='val_loss', patience=5, cooldown=0), EarlyStopping(monitor='val_acc', min_delta=1e-4, patience=5)]"
   ]
  },
  {
   "cell_type": "code",
   "execution_count": 51,
   "id": "5dbd152e",
   "metadata": {
    "execution": {
     "iopub.execute_input": "2023-05-12T10:38:55.648776Z",
     "iopub.status.busy": "2023-05-12T10:38:55.648130Z",
     "iopub.status.idle": "2023-05-12T10:43:21.027712Z",
     "shell.execute_reply": "2023-05-12T10:43:21.026450Z"
    },
    "papermill": {
     "duration": 265.410188,
     "end_time": "2023-05-12T10:43:21.030547",
     "exception": false,
     "start_time": "2023-05-12T10:38:55.620359",
     "status": "completed"
    },
    "tags": []
   },
   "outputs": [
    {
     "name": "stdout",
     "output_type": "stream",
     "text": [
      "Epoch 1/15\n",
      "263/263 [==============================] - 21s 66ms/step - loss: 0.6929 - accuracy: 0.5089 - val_loss: 0.6942 - val_accuracy: 0.4771\n",
      "Epoch 2/15\n",
      "263/263 [==============================] - 17s 66ms/step - loss: 0.6920 - accuracy: 0.5256 - val_loss: 0.7256 - val_accuracy: 0.5257\n",
      "Epoch 3/15\n",
      "263/263 [==============================] - 17s 66ms/step - loss: 0.6915 - accuracy: 0.5302 - val_loss: 0.6906 - val_accuracy: 0.5400\n",
      "Epoch 4/15\n",
      "263/263 [==============================] - 17s 65ms/step - loss: 0.6849 - accuracy: 0.5489 - val_loss: 0.6844 - val_accuracy: 0.5571\n",
      "Epoch 5/15\n",
      "263/263 [==============================] - 17s 66ms/step - loss: 0.6855 - accuracy: 0.5543 - val_loss: 0.6794 - val_accuracy: 0.5786\n",
      "Epoch 6/15\n",
      "263/263 [==============================] - 17s 65ms/step - loss: 0.6836 - accuracy: 0.5570 - val_loss: 0.6729 - val_accuracy: 0.5814\n",
      "Epoch 7/15\n",
      "263/263 [==============================] - 18s 67ms/step - loss: 0.6842 - accuracy: 0.5573 - val_loss: 0.6644 - val_accuracy: 0.5871\n",
      "Epoch 8/15\n",
      "263/263 [==============================] - 17s 65ms/step - loss: 0.6850 - accuracy: 0.5557 - val_loss: 0.6692 - val_accuracy: 0.5886\n",
      "Epoch 9/15\n",
      "263/263 [==============================] - 17s 66ms/step - loss: 0.6834 - accuracy: 0.5543 - val_loss: 0.6711 - val_accuracy: 0.6100\n",
      "Epoch 10/15\n",
      "263/263 [==============================] - 17s 65ms/step - loss: 0.6842 - accuracy: 0.5544 - val_loss: 0.6786 - val_accuracy: 0.6143\n",
      "Epoch 11/15\n",
      "263/263 [==============================] - 17s 66ms/step - loss: 0.6829 - accuracy: 0.5598 - val_loss: 0.6682 - val_accuracy: 0.6186\n",
      "Epoch 12/15\n",
      "263/263 [==============================] - 18s 67ms/step - loss: 0.6816 - accuracy: 0.5643 - val_loss: 0.6727 - val_accuracy: 0.5886\n",
      "Epoch 13/15\n",
      "263/263 [==============================] - 17s 65ms/step - loss: 0.6822 - accuracy: 0.5573 - val_loss: 0.6680 - val_accuracy: 0.5857\n",
      "Epoch 14/15\n",
      "263/263 [==============================] - 18s 67ms/step - loss: 0.6825 - accuracy: 0.5581 - val_loss: 0.6820 - val_accuracy: 0.5729\n",
      "Epoch 15/15\n",
      "263/263 [==============================] - 17s 65ms/step - loss: 0.6824 - accuracy: 0.5581 - val_loss: 0.6759 - val_accuracy: 0.5857\n"
     ]
    }
   ],
   "source": [
    "results = cnn.fit(X_train, y_train, batch_size=X_train.shape[1], epochs=15, validation_split=0.1, verbose=1)"
   ]
  },
  {
   "cell_type": "code",
   "execution_count": 52,
   "id": "85bdc5ef",
   "metadata": {
    "execution": {
     "iopub.execute_input": "2023-05-12T10:43:21.573310Z",
     "iopub.status.busy": "2023-05-12T10:43:21.572887Z",
     "iopub.status.idle": "2023-05-12T10:43:23.343043Z",
     "shell.execute_reply": "2023-05-12T10:43:23.342063Z"
    },
    "papermill": {
     "duration": 2.045872,
     "end_time": "2023-05-12T10:43:23.345697",
     "exception": false,
     "start_time": "2023-05-12T10:43:21.299825",
     "status": "completed"
    },
    "tags": []
   },
   "outputs": [],
   "source": [
    "cnn_pred = cnn.predict(X_test)\n",
    "cnn_pred = np.where(cnn_pred < 0.5, 0, 1)"
   ]
  },
  {
   "cell_type": "markdown",
   "id": "9e506f3c",
   "metadata": {
    "papermill": {
     "duration": 0.26731,
     "end_time": "2023-05-12T10:43:23.886119",
     "exception": false,
     "start_time": "2023-05-12T10:43:23.618809",
     "status": "completed"
    },
    "tags": []
   },
   "source": [
    "# Accuracy "
   ]
  },
  {
   "cell_type": "markdown",
   "id": "1b3ac79f",
   "metadata": {
    "papermill": {
     "duration": 0.322883,
     "end_time": "2023-05-12T10:43:24.475750",
     "exception": false,
     "start_time": "2023-05-12T10:43:24.152867",
     "status": "completed"
    },
    "tags": []
   },
   "source": [
    "- Below is the accuracy for the CNN Matix"
   ]
  },
  {
   "cell_type": "code",
   "execution_count": 53,
   "id": "69f0ea36",
   "metadata": {
    "execution": {
     "iopub.execute_input": "2023-05-12T10:43:25.014847Z",
     "iopub.status.busy": "2023-05-12T10:43:25.014123Z",
     "iopub.status.idle": "2023-05-12T10:43:26.594381Z",
     "shell.execute_reply": "2023-05-12T10:43:26.593106Z"
    },
    "papermill": {
     "duration": 1.851608,
     "end_time": "2023-05-12T10:43:26.596902",
     "exception": false,
     "start_time": "2023-05-12T10:43:24.745294",
     "status": "completed"
    },
    "tags": []
   },
   "outputs": [
    {
     "name": "stdout",
     "output_type": "stream",
     "text": [
      "94/94 [==============================] - 2s 16ms/step - loss: 0.6933 - accuracy: 0.5350\n"
     ]
    },
    {
     "data": {
      "text/plain": [
       "[0.6932976245880127, 0.5350000262260437]"
      ]
     },
     "execution_count": 53,
     "metadata": {},
     "output_type": "execute_result"
    }
   ],
   "source": [
    "cnn.evaluate(X_test,y_test)"
   ]
  },
  {
   "cell_type": "markdown",
   "id": "21c9d62c",
   "metadata": {
    "papermill": {
     "duration": 0.270725,
     "end_time": "2023-05-12T10:43:27.139237",
     "exception": false,
     "start_time": "2023-05-12T10:43:26.868512",
     "status": "completed"
    },
    "tags": []
   },
   "source": [
    "# Classification Matrix "
   ]
  },
  {
   "cell_type": "code",
   "execution_count": 54,
   "id": "81b385f6",
   "metadata": {
    "execution": {
     "iopub.execute_input": "2023-05-12T10:43:27.739075Z",
     "iopub.status.busy": "2023-05-12T10:43:27.738337Z",
     "iopub.status.idle": "2023-05-12T10:43:27.752507Z",
     "shell.execute_reply": "2023-05-12T10:43:27.751589Z"
    },
    "papermill": {
     "duration": 0.3468,
     "end_time": "2023-05-12T10:43:27.755342",
     "exception": false,
     "start_time": "2023-05-12T10:43:27.408542",
     "status": "completed"
    },
    "tags": []
   },
   "outputs": [
    {
     "name": "stdout",
     "output_type": "stream",
     "text": [
      "              precision    recall  f1-score   support\n",
      "\n",
      "           0       0.52      0.88      0.65      1489\n",
      "           1       0.63      0.19      0.29      1511\n",
      "\n",
      "    accuracy                           0.54      3000\n",
      "   macro avg       0.57      0.54      0.47      3000\n",
      "weighted avg       0.57      0.54      0.47      3000\n",
      "\n"
     ]
    }
   ],
   "source": [
    "print(classification_report(y_test,cnn_pred))"
   ]
  },
  {
   "cell_type": "markdown",
   "id": "bf6e586d",
   "metadata": {
    "papermill": {
     "duration": 0.268664,
     "end_time": "2023-05-12T10:43:28.293134",
     "exception": false,
     "start_time": "2023-05-12T10:43:28.024470",
     "status": "completed"
    },
    "tags": []
   },
   "source": [
    "# Confusion Matrix "
   ]
  },
  {
   "cell_type": "code",
   "execution_count": 55,
   "id": "48b79f91",
   "metadata": {
    "execution": {
     "iopub.execute_input": "2023-05-12T10:43:28.851161Z",
     "iopub.status.busy": "2023-05-12T10:43:28.850768Z",
     "iopub.status.idle": "2023-05-12T10:43:29.103310Z",
     "shell.execute_reply": "2023-05-12T10:43:29.100976Z"
    },
    "papermill": {
     "duration": 0.544519,
     "end_time": "2023-05-12T10:43:29.105985",
     "exception": false,
     "start_time": "2023-05-12T10:43:28.561466",
     "status": "completed"
    },
    "tags": []
   },
   "outputs": [
    {
     "data": {
      "image/png": "[encoded data removed]",
      "text/plain": [
       "<Figure size 864x504 with 2 Axes>"
      ]
     },
     "metadata": {
      "needs_background": "light"
     },
     "output_type": "display_data"
    }
   ],
   "source": [
    "cm_cnn = confusion_matrix(y_test,cnn_pred)\n",
    "\n",
    "# plot confusion matrix \n",
    "plt.figure(figsize=(12,7))\n",
    "sentiment_classes = ['Negative', 'Positive']\n",
    "sb.heatmap(cm_cnn, cmap=plt.cm.Greens, annot=True,cbar_kws={'label': 'Count of Tweets'},  fmt='d',  \n",
    "            xticklabels=sentiment_classes,\n",
    "            yticklabels=sentiment_classes)\n",
    "plt.xlabel('Predicted', fontsize=15)\n",
    "plt.ylabel('Truth', fontsize=15)\n",
    "plt.title('Confusion matrix', fontsize=20)\n",
    "plt.show()"
   ]
  },
  {
   "cell_type": "markdown",
   "id": "b7132a71",
   "metadata": {
    "papermill": {
     "duration": 0.27492,
     "end_time": "2023-05-12T10:43:29.730705",
     "exception": false,
     "start_time": "2023-05-12T10:43:29.455785",
     "status": "completed"
    },
    "tags": []
   },
   "source": [
    "# Results "
   ]
  },
  {
   "cell_type": "code",
   "execution_count": 56,
   "id": "c669c28b",
   "metadata": {
    "execution": {
     "iopub.execute_input": "2023-05-12T10:43:30.274621Z",
     "iopub.status.busy": "2023-05-12T10:43:30.273893Z",
     "iopub.status.idle": "2023-05-12T10:43:30.290062Z",
     "shell.execute_reply": "2023-05-12T10:43:30.289215Z"
    },
    "papermill": {
     "duration": 0.288458,
     "end_time": "2023-05-12T10:43:30.292261",
     "exception": false,
     "start_time": "2023-05-12T10:43:30.003803",
     "status": "completed"
    },
    "tags": []
   },
   "outputs": [
    {
     "data": {
      "text/html": [
       "<div>\n",
       "<style scoped>\n",
       "    .dataframe tbody tr th:only-of-type {\n",
       "        vertical-align: middle;\n",
       "    }\n",
       "\n",
       "    .dataframe tbody tr th {\n",
       "        vertical-align: top;\n",
       "    }\n",
       "\n",
       "    .dataframe thead th {\n",
       "        text-align: right;\n",
       "    }\n",
       "</style>\n",
       "<table border=\"1\" class=\"dataframe\">\n",
       "  <thead>\n",
       "    <tr style=\"text-align: right;\">\n",
       "      <th></th>\n",
       "      <th>Algorithm</th>\n",
       "      <th>Score</th>\n",
       "    </tr>\n",
       "  </thead>\n",
       "  <tbody>\n",
       "    <tr>\n",
       "      <th>0</th>\n",
       "      <td>KNN</td>\n",
       "      <td>0.309333</td>\n",
       "    </tr>\n",
       "    <tr>\n",
       "      <th>1</th>\n",
       "      <td>Decision Tree</td>\n",
       "      <td>0.346333</td>\n",
       "    </tr>\n",
       "    <tr>\n",
       "      <th>2</th>\n",
       "      <td>SVM</td>\n",
       "      <td>0.421000</td>\n",
       "    </tr>\n",
       "    <tr>\n",
       "      <th>3</th>\n",
       "      <td>CNN</td>\n",
       "      <td>0.535000</td>\n",
       "    </tr>\n",
       "  </tbody>\n",
       "</table>\n",
       "</div>"
      ],
      "text/plain": [
       "       Algorithm     Score\n",
       "0            KNN  0.309333\n",
       "1  Decision Tree  0.346333\n",
       "2            SVM  0.421000\n",
       "3            CNN  0.535000"
      ]
     },
     "execution_count": 56,
     "metadata": {},
     "output_type": "execute_result"
    }
   ],
   "source": [
    "df_results = pd.DataFrame()\n",
    "df_results['Algorithm'] = [\n",
    "    'KNN', 'Decision Tree', 'SVM', 'CNN']\n",
    "df_results['Score'] = [accuracy_score(KNN_predictions,y_test), accuracy_score(Dec_Tree_predictions,y_test),accuracy_score(SVM_predictions,y_test),accuracy_score(cnn_pred,y_test) ]\n",
    "df_results.columns = ['Algorithm','Score']\n",
    "df_results"
   ]
  },
  {
   "cell_type": "markdown",
   "id": "1070e83a",
   "metadata": {
    "papermill": {
     "duration": 0.272277,
     "end_time": "2023-05-12T10:43:30.834942",
     "exception": false,
     "start_time": "2023-05-12T10:43:30.562665",
     "status": "completed"
    },
    "tags": []
   },
   "source": [
    "- As we can see that the accuracy of CNN is giving us the best accuracy from our dataframe among the first three. But when we compare the upper three models with CNN then CNN is giving us the best accuracy among all as shown."
   ]
  },
  {
   "cell_type": "code",
   "execution_count": 57,
   "id": "ab735bd4",
   "metadata": {
    "execution": {
     "iopub.execute_input": "2023-05-12T10:43:31.427043Z",
     "iopub.status.busy": "2023-05-12T10:43:31.426076Z",
     "iopub.status.idle": "2023-05-12T10:43:32.760843Z",
     "shell.execute_reply": "2023-05-12T10:43:32.759642Z"
    },
    "papermill": {
     "duration": 1.605667,
     "end_time": "2023-05-12T10:43:32.763460",
     "exception": false,
     "start_time": "2023-05-12T10:43:31.157793",
     "status": "completed"
    },
    "tags": []
   },
   "outputs": [
    {
     "data": {
      "image/png": "[encoded data removed]",
      "text/plain": [
       "<Figure size 1296x360 with 8 Axes>"
      ]
     },
     "metadata": {
      "needs_background": "light"
     },
     "output_type": "display_data"
    }
   ],
   "source": [
    "df_cm = pd.DataFrame()\n",
    "df_cm['Name'] = ['KNN','Decision Tree','SVM','CNN']\n",
    "df_cm['CM'] = [cm_KNN,cm_Dec_Tree,cm_svm,cm_cnn]\n",
    "df_cm.columns = ['Name','CM']\n",
    "df_cm = df_cm.transpose()\n",
    "\n",
    "fig, ax = plt.subplots(ncols=4, nrows=1, figsize=(18, 5))\n",
    "ax = ax.flatten()\n",
    "sentiment_classes = ['Negative', 'Positive']\n",
    "index=0\n",
    "for i in df_cm.columns:\n",
    "    sb.heatmap(df_cm[i][1], annot=True, ax=ax[index],cbar_kws={'label': 'Counts of Tweets'}, fmt='d',  \n",
    "            xticklabels=sentiment_classes , yticklabels=sentiment_classes ,cmap=\"PiYG\")\n",
    "    ax[index].set_title(df_cm[i][0])\n",
    "    ax[index].set_xlabel('Predicted')\n",
    "    ax[index].set_ylabel('Truth')\n",
    "    index += 1\n",
    "plt.tight_layout(pad=2)\n",
    "plt.show()"
   ]
  },
  {
   "cell_type": "markdown",
   "id": "58a63be6",
   "metadata": {
    "papermill": {
     "duration": 0.267916,
     "end_time": "2023-05-12T10:43:33.300409",
     "exception": false,
     "start_time": "2023-05-12T10:43:33.032493",
     "status": "completed"
    },
    "tags": []
   },
   "source": [
    "- If we see the balanced data among all the trained models then CNN is the best. There is a difference among all but CNN is having the least difference among these 3. The accuracy and the confusion matrix shows that CNN is most efficient"
   ]
  }
 ],
 "metadata": {
  "kernelspec": {
   "display_name": "Python 3",
   "language": "python",
   "name": "python3"
  },
  "language_info": {
   "codemirror_mode": {
    "name": "ipython",
    "version": 3
   },
   "file_extension": ".py",
   "mimetype": "text/x-python",
   "name": "python",
   "nbconvert_exporter": "python",
   "pygments_lexer": "ipython3",
   "version": "3.7.12"
  },
  "papermill": {
   "default_parameters": {},
   "duration": 347.8979,
   "end_time": "2023-05-12T10:43:36.612898",
   "environment_variables": {},
   "exception": null,
   "input_path": "__notebook__.ipynb",
   "output_path": "__notebook__.ipynb",
   "parameters": {},
   "start_time": "2023-05-12T10:37:48.714998",
   "version": "2.3.4"
  }
 },
 "nbformat": 4,
 "nbformat_minor": 5
}
